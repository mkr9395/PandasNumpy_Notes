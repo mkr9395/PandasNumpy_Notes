{
 "cells": [
  {
   "cell_type": "code",
   "execution_count": 1,
   "id": "626a56a7",
   "metadata": {},
   "outputs": [],
   "source": [
    "import pandas as pd"
   ]
  },
  {
   "cell_type": "code",
   "execution_count": 2,
   "id": "f2111bc7",
   "metadata": {},
   "outputs": [],
   "source": [
    "import numpy as np"
   ]
  },
  {
   "cell_type": "code",
   "execution_count": 3,
   "id": "734d9a45",
   "metadata": {},
   "outputs": [],
   "source": [
    "import array"
   ]
  },
  {
   "cell_type": "code",
   "execution_count": 4,
   "id": "0b8d7c3d",
   "metadata": {},
   "outputs": [
    {
     "data": {
      "text/plain": [
       "array([1, 2, 3, 4, 5])"
      ]
     },
     "execution_count": 4,
     "metadata": {},
     "output_type": "execute_result"
    }
   ],
   "source": [
    "np.array([1,2,3,4,5])"
   ]
  },
  {
   "cell_type": "code",
   "execution_count": 5,
   "id": "4dee5989",
   "metadata": {},
   "outputs": [
    {
     "data": {
      "text/plain": [
       "array(['1', '2', '3', '4', '5', 'sudh'], dtype='<U11')"
      ]
     },
     "execution_count": 5,
     "metadata": {},
     "output_type": "execute_result"
    }
   ],
   "source": [
    "np.array([1,2,3,4,5,\"sudh\"])"
   ]
  },
  {
   "cell_type": "code",
   "execution_count": 6,
   "id": "c16e8d41",
   "metadata": {},
   "outputs": [
    {
     "data": {
      "text/plain": [
       "numpy.ndarray"
      ]
     },
     "execution_count": 6,
     "metadata": {},
     "output_type": "execute_result"
    }
   ],
   "source": [
    "type(np.array([1,2,3,4,5,\"sudh\"]))"
   ]
  },
  {
   "cell_type": "code",
   "execution_count": 7,
   "id": "8362069d",
   "metadata": {},
   "outputs": [
    {
     "data": {
      "text/plain": [
       "array([1. , 2. , 3. , 4. , 5.3, 6. , 7. ])"
      ]
     },
     "execution_count": 7,
     "metadata": {},
     "output_type": "execute_result"
    }
   ],
   "source": [
    "# 1-D Array\n",
    "\n",
    "np.array([1,2,3,4.0,5.3,6,7])"
   ]
  },
  {
   "cell_type": "code",
   "execution_count": 8,
   "id": "82ae9f6b",
   "metadata": {},
   "outputs": [
    {
     "data": {
      "text/plain": [
       "array([[1, 3],\n",
       "       [3, 4]])"
      ]
     },
     "execution_count": 8,
     "metadata": {},
     "output_type": "execute_result"
    }
   ],
   "source": [
    "# 2-D Array\n",
    "\n",
    "np.array([[1,3],[3,4]])"
   ]
  },
  {
   "cell_type": "code",
   "execution_count": 9,
   "id": "f8b27b4c",
   "metadata": {},
   "outputs": [
    {
     "data": {
      "text/plain": [
       "array([[1, 3],\n",
       "       [3, 4],\n",
       "       [6, 7]])"
      ]
     },
     "execution_count": 9,
     "metadata": {},
     "output_type": "execute_result"
    }
   ],
   "source": [
    "np.array([[1,3],[3,4],[6,7]])"
   ]
  },
  {
   "cell_type": "code",
   "execution_count": 10,
   "id": "d9b37f77",
   "metadata": {},
   "outputs": [
    {
     "name": "stderr",
     "output_type": "stream",
     "text": [
      "C:\\Users\\MOHIT~1.KUM\\AppData\\Local\\Temp/ipykernel_11632/195332950.py:2: VisibleDeprecationWarning: Creating an ndarray from ragged nested sequences (which is a list-or-tuple of lists-or-tuples-or ndarrays with different lengths or shapes) is deprecated. If you meant to do this, you must specify 'dtype=object' when creating the ndarray.\n",
      "  np.array([[1,3],[3,4],[6,7,8]])\n"
     ]
    },
    {
     "data": {
      "text/plain": [
       "array([list([1, 3]), list([3, 4]), list([6, 7, 8])], dtype=object)"
      ]
     },
     "execution_count": 10,
     "metadata": {},
     "output_type": "execute_result"
    }
   ],
   "source": [
    "# dimension of array should be equal\n",
    "np.array([[1,3],[3,4],[6,7,8]])"
   ]
  },
  {
   "cell_type": "code",
   "execution_count": 11,
   "id": "a5d3a541",
   "metadata": {},
   "outputs": [
    {
     "data": {
      "text/plain": [
       "array([[[1, 3],\n",
       "        [3, 4]],\n",
       "\n",
       "       [[1, 3],\n",
       "        [3, 4]]])"
      ]
     },
     "execution_count": 11,
     "metadata": {},
     "output_type": "execute_result"
    }
   ],
   "source": [
    "# 3-D Array\n",
    "\n",
    "np.array([[[1,3],[3,4]],[[1,3],[3,4]]])"
   ]
  },
  {
   "cell_type": "code",
   "execution_count": 12,
   "id": "d102e633",
   "metadata": {},
   "outputs": [
    {
     "data": {
      "text/plain": [
       "array([[[1, 2, 3]]])"
      ]
     },
     "execution_count": 12,
     "metadata": {},
     "output_type": "execute_result"
    }
   ],
   "source": [
    "np.array([1,2,3], ndmin=3)"
   ]
  },
  {
   "cell_type": "code",
   "execution_count": 13,
   "id": "27b89f59",
   "metadata": {},
   "outputs": [
    {
     "data": {
      "text/plain": [
       "array([[[[[[[[[[[[[[[[[[[[[[[[[[[[[[1, 2, 3]]]]]]]]]]]]]]]]]]]]]]]]]]]]]])"
      ]
     },
     "execution_count": 13,
     "metadata": {},
     "output_type": "execute_result"
    }
   ],
   "source": [
    "np.array([1,2,3], ndmin=30)"
   ]
  },
  {
   "cell_type": "code",
   "execution_count": 14,
   "id": "57547c2b",
   "metadata": {},
   "outputs": [
    {
     "data": {
      "text/plain": [
       "array([1.+0.j, 2.+0.j, 3.+0.j])"
      ]
     },
     "execution_count": 14,
     "metadata": {},
     "output_type": "execute_result"
    }
   ],
   "source": [
    "np.array([1,2,3],dtype = complex)"
   ]
  },
  {
   "cell_type": "code",
   "execution_count": 15,
   "id": "b434f8ca",
   "metadata": {},
   "outputs": [
    {
     "data": {
      "text/plain": [
       "array([[1, 2],\n",
       "       [4, 5]])"
      ]
     },
     "execution_count": 15,
     "metadata": {},
     "output_type": "execute_result"
    }
   ],
   "source": [
    "# data as tuple instead of list\n",
    "np.array([(1,2),(4,5)])"
   ]
  },
  {
   "cell_type": "code",
   "execution_count": 4,
   "id": "46aba27c",
   "metadata": {},
   "outputs": [],
   "source": [
    "arr = np.array([(1,2),(4,5)],dtype = [(\"a\",\"<i2\"),(\"b\",\"<i8\")])"
   ]
  },
  {
   "cell_type": "code",
   "execution_count": 5,
   "id": "973af75e",
   "metadata": {},
   "outputs": [
    {
     "data": {
      "text/plain": [
       "array([(1, 2), (4, 5)], dtype=[('a', '<i2'), ('b', '<i8')])"
      ]
     },
     "execution_count": 5,
     "metadata": {},
     "output_type": "execute_result"
    }
   ],
   "source": [
    "arr"
   ]
  },
  {
   "cell_type": "code",
   "execution_count": 6,
   "id": "46030fad",
   "metadata": {},
   "outputs": [
    {
     "data": {
      "text/plain": [
       "1"
      ]
     },
     "execution_count": 6,
     "metadata": {},
     "output_type": "execute_result"
    }
   ],
   "source": [
    "arr[0][0]"
   ]
  },
  {
   "cell_type": "code",
   "execution_count": 18,
   "id": "2772d504",
   "metadata": {},
   "outputs": [
    {
     "data": {
      "text/plain": [
       "numpy.int16"
      ]
     },
     "execution_count": 18,
     "metadata": {},
     "output_type": "execute_result"
    }
   ],
   "source": [
    "type(arr[0][0])"
   ]
  },
  {
   "cell_type": "code",
   "execution_count": 7,
   "id": "e896f43d",
   "metadata": {},
   "outputs": [
    {
     "data": {
      "text/plain": [
       "2"
      ]
     },
     "execution_count": 7,
     "metadata": {},
     "output_type": "execute_result"
    }
   ],
   "source": [
    "arr[0][1]"
   ]
  },
  {
   "cell_type": "code",
   "execution_count": 19,
   "id": "a71034b0",
   "metadata": {},
   "outputs": [
    {
     "data": {
      "text/plain": [
       "numpy.int64"
      ]
     },
     "execution_count": 19,
     "metadata": {},
     "output_type": "execute_result"
    }
   ],
   "source": [
    "type(arr[0][1])"
   ]
  },
  {
   "cell_type": "code",
   "execution_count": 20,
   "id": "7ad9546b",
   "metadata": {},
   "outputs": [],
   "source": [
    "arr = np.array([(1,2),(4,5)])"
   ]
  },
  {
   "cell_type": "code",
   "execution_count": 21,
   "id": "306e10a5",
   "metadata": {},
   "outputs": [
    {
     "data": {
      "text/plain": [
       "array([[1, 2],\n",
       "       [4, 5]])"
      ]
     },
     "execution_count": 21,
     "metadata": {},
     "output_type": "execute_result"
    }
   ],
   "source": [
    "arr"
   ]
  },
  {
   "cell_type": "code",
   "execution_count": 22,
   "id": "3093aca4",
   "metadata": {},
   "outputs": [
    {
     "data": {
      "text/plain": [
       "1"
      ]
     },
     "execution_count": 22,
     "metadata": {},
     "output_type": "execute_result"
    }
   ],
   "source": [
    "arr[0][0]"
   ]
  },
  {
   "cell_type": "code",
   "execution_count": 23,
   "id": "dac52d7c",
   "metadata": {},
   "outputs": [
    {
     "data": {
      "text/plain": [
       "2"
      ]
     },
     "execution_count": 23,
     "metadata": {},
     "output_type": "execute_result"
    }
   ],
   "source": [
    "arr[0][1]"
   ]
  },
  {
   "cell_type": "code",
   "execution_count": 24,
   "id": "3b993a68",
   "metadata": {},
   "outputs": [
    {
     "data": {
      "text/plain": [
       "4"
      ]
     },
     "execution_count": 24,
     "metadata": {},
     "output_type": "execute_result"
    }
   ],
   "source": [
    "arr[1][0]"
   ]
  },
  {
   "cell_type": "code",
   "execution_count": 25,
   "id": "ec4bb794",
   "metadata": {},
   "outputs": [
    {
     "data": {
      "text/plain": [
       "5"
      ]
     },
     "execution_count": 25,
     "metadata": {},
     "output_type": "execute_result"
    }
   ],
   "source": [
    "arr[1][1]"
   ]
  },
  {
   "cell_type": "code",
   "execution_count": 26,
   "id": "aeb86002",
   "metadata": {},
   "outputs": [
    {
     "data": {
      "text/plain": [
       "array([1, 2])"
      ]
     },
     "execution_count": 26,
     "metadata": {},
     "output_type": "execute_result"
    }
   ],
   "source": [
    "arr[0]"
   ]
  },
  {
   "cell_type": "code",
   "execution_count": 27,
   "id": "98b3429c",
   "metadata": {},
   "outputs": [
    {
     "data": {
      "text/plain": [
       "numpy.int32"
      ]
     },
     "execution_count": 27,
     "metadata": {},
     "output_type": "execute_result"
    }
   ],
   "source": [
    "type(arr[1][1])"
   ]
  },
  {
   "cell_type": "code",
   "execution_count": 28,
   "id": "7d6928e5",
   "metadata": {},
   "outputs": [
    {
     "data": {
      "text/plain": [
       "matrix([[1, 2],\n",
       "        [4, 5]])"
      ]
     },
     "execution_count": 28,
     "metadata": {},
     "output_type": "execute_result"
    }
   ],
   "source": [
    "np.matrix(arr)"
   ]
  },
  {
   "cell_type": "code",
   "execution_count": 10,
   "id": "b788b200",
   "metadata": {},
   "outputs": [],
   "source": [
    "l = [3,4,5,76,7]"
   ]
  },
  {
   "cell_type": "code",
   "execution_count": 11,
   "id": "3781e016",
   "metadata": {},
   "outputs": [
    {
     "data": {
      "text/plain": [
       "array([ 3,  4,  5, 76,  7])"
      ]
     },
     "execution_count": 11,
     "metadata": {},
     "output_type": "execute_result"
    }
   ],
   "source": [
    "np.array(l)"
   ]
  },
  {
   "cell_type": "code",
   "execution_count": 12,
   "id": "e3c34580",
   "metadata": {},
   "outputs": [
    {
     "data": {
      "text/plain": [
       "array([ 3,  4,  5, 76,  7])"
      ]
     },
     "execution_count": 12,
     "metadata": {},
     "output_type": "execute_result"
    }
   ],
   "source": [
    "np.asanyarray(l)"
   ]
  },
  {
   "cell_type": "code",
   "execution_count": 13,
   "id": "a96f3ddd",
   "metadata": {},
   "outputs": [
    {
     "data": {
      "text/plain": [
       "array([ 3,  4,  5, 76,  7])"
      ]
     },
     "execution_count": 13,
     "metadata": {},
     "output_type": "execute_result"
    }
   ],
   "source": [
    "np.asarray(l)"
   ]
  },
  {
   "cell_type": "code",
   "execution_count": 15,
   "id": "fe0c3acc",
   "metadata": {},
   "outputs": [
    {
     "data": {
      "text/plain": [
       "matrix([[(1, 2), (4, 5)]], dtype=[('a', '<i2'), ('b', '<i8')])"
      ]
     },
     "execution_count": 15,
     "metadata": {},
     "output_type": "execute_result"
    }
   ],
   "source": [
    "mat = np.matrix(arr)\n",
    "mat"
   ]
  },
  {
   "cell_type": "code",
   "execution_count": 16,
   "id": "6e7881e0",
   "metadata": {},
   "outputs": [
    {
     "data": {
      "text/plain": [
       "matrix([[(1, 2), (4, 5)]], dtype=[('a', '<i2'), ('b', '<i8')])"
      ]
     },
     "execution_count": 16,
     "metadata": {},
     "output_type": "execute_result"
    }
   ],
   "source": [
    "np.asanyarray(mat)\n",
    "\n",
    "# here output is a matrix instaed of array as matrix is also a type of array"
   ]
  },
  {
   "cell_type": "code",
   "execution_count": 17,
   "id": "2d58c10c",
   "metadata": {},
   "outputs": [
    {
     "data": {
      "text/plain": [
       "array([[(1, 2), (4, 5)]], dtype=[('a', '<i2'), ('b', '<i8')])"
      ]
     },
     "execution_count": 17,
     "metadata": {},
     "output_type": "execute_result"
    }
   ],
   "source": [
    "np.asarray(mat)\n",
    "\n",
    "# here output is array as asarray converts into only array."
   ]
  },
  {
   "cell_type": "code",
   "execution_count": 18,
   "id": "b92d6837",
   "metadata": {},
   "outputs": [
    {
     "data": {
      "text/plain": [
       "array([[(1, 2), (4, 5)]], dtype=[('a', '<i2'), ('b', '<i8')])"
      ]
     },
     "execution_count": 18,
     "metadata": {},
     "output_type": "execute_result"
    }
   ],
   "source": [
    "np.array(mat)"
   ]
  },
  {
   "cell_type": "code",
   "execution_count": 19,
   "id": "03b9f4a0",
   "metadata": {},
   "outputs": [
    {
     "data": {
      "text/plain": [
       "True"
      ]
     },
     "execution_count": 19,
     "metadata": {},
     "output_type": "execute_result"
    }
   ],
   "source": [
    "# is matrix a subclass of array\n",
    "\n",
    "issubclass(np.matrix, np.ndarray)"
   ]
  },
  {
   "cell_type": "code",
   "execution_count": 37,
   "id": "f4e5c9bb",
   "metadata": {},
   "outputs": [
    {
     "data": {
      "text/plain": [
       "False"
      ]
     },
     "execution_count": 37,
     "metadata": {},
     "output_type": "execute_result"
    }
   ],
   "source": [
    "# is array a subclass of matrix\n",
    "issubclass(np.ndarray, np.matrix)"
   ]
  },
  {
   "cell_type": "code",
   "execution_count": 38,
   "id": "a29812f8",
   "metadata": {},
   "outputs": [],
   "source": [
    "# asigning value of arr to a\n",
    "# shallow copy means changes happening anytime will reflect here\n",
    "\n",
    "a = arr"
   ]
  },
  {
   "cell_type": "code",
   "execution_count": 39,
   "id": "7ab04d10",
   "metadata": {},
   "outputs": [],
   "source": [
    "# deep copy means changes happening to main after the point of copy won't reflect here\n",
    "\n",
    "b = np.copy(arr)"
   ]
  },
  {
   "cell_type": "code",
   "execution_count": 40,
   "id": "371f8a27",
   "metadata": {},
   "outputs": [
    {
     "data": {
      "text/plain": [
       "array([[1, 2],\n",
       "       [4, 5]])"
      ]
     },
     "execution_count": 40,
     "metadata": {},
     "output_type": "execute_result"
    }
   ],
   "source": [
    "arr"
   ]
  },
  {
   "cell_type": "code",
   "execution_count": 41,
   "id": "3d781e48",
   "metadata": {},
   "outputs": [],
   "source": [
    "a[0][0]  = 57"
   ]
  },
  {
   "cell_type": "code",
   "execution_count": 42,
   "id": "464d645c",
   "metadata": {},
   "outputs": [
    {
     "data": {
      "text/plain": [
       "array([[57,  2],\n",
       "       [ 4,  5]])"
      ]
     },
     "execution_count": 42,
     "metadata": {},
     "output_type": "execute_result"
    }
   ],
   "source": [
    "arr"
   ]
  },
  {
   "cell_type": "code",
   "execution_count": 43,
   "id": "89bb0bdf",
   "metadata": {},
   "outputs": [],
   "source": [
    "b = np.copy(arr)"
   ]
  },
  {
   "cell_type": "code",
   "execution_count": 44,
   "id": "a72baba6",
   "metadata": {},
   "outputs": [],
   "source": [
    "a[0][1]  = 77"
   ]
  },
  {
   "cell_type": "code",
   "execution_count": 45,
   "id": "ba2e5a1c",
   "metadata": {},
   "outputs": [
    {
     "data": {
      "text/plain": [
       "array([[57, 77],\n",
       "       [ 4,  5]])"
      ]
     },
     "execution_count": 45,
     "metadata": {},
     "output_type": "execute_result"
    }
   ],
   "source": [
    "a"
   ]
  },
  {
   "cell_type": "code",
   "execution_count": 46,
   "id": "45f9085c",
   "metadata": {},
   "outputs": [
    {
     "data": {
      "text/plain": [
       "array([[57,  2],\n",
       "       [ 4,  5]])"
      ]
     },
     "execution_count": 46,
     "metadata": {},
     "output_type": "execute_result"
    }
   ],
   "source": [
    "b"
   ]
  },
  {
   "cell_type": "markdown",
   "id": "6dc961b3",
   "metadata": {},
   "source": [
    "#### NOTE: array is mutable"
   ]
  },
  {
   "cell_type": "code",
   "execution_count": 47,
   "id": "884a9afa",
   "metadata": {},
   "outputs": [
    {
     "data": {
      "text/plain": [
       "array([[ True, False, False, False],\n",
       "       [False,  True, False, False],\n",
       "       [False, False,  True, False],\n",
       "       [False, False, False,  True]])"
      ]
     },
     "execution_count": 47,
     "metadata": {},
     "output_type": "execute_result"
    }
   ],
   "source": [
    "np.fromfunction(lambda i,j : i == j, (4,4))"
   ]
  },
  {
   "cell_type": "markdown",
   "id": "e05f5a00",
   "metadata": {},
   "source": [
    "#### generating NdArray"
   ]
  },
  {
   "cell_type": "code",
   "execution_count": 48,
   "id": "60910b50",
   "metadata": {
    "scrolled": false
   },
   "outputs": [
    {
     "data": {
      "text/plain": [
       "array([[0., 0., 0., 0.],\n",
       "       [0., 1., 2., 3.],\n",
       "       [0., 2., 4., 6.],\n",
       "       [0., 3., 6., 9.]])"
      ]
     },
     "execution_count": 48,
     "metadata": {},
     "output_type": "execute_result"
    }
   ],
   "source": [
    "np.fromfunction(lambda i,j : i*j, (4,4))"
   ]
  },
  {
   "cell_type": "code",
   "execution_count": 49,
   "id": "8b0e3cea",
   "metadata": {},
   "outputs": [
    {
     "data": {
      "text/plain": [
       "array([[ 1.,  0.,  0.,  0.],\n",
       "       [ 1.,  1.,  1.,  1.],\n",
       "       [ 1.,  2.,  4.,  8.],\n",
       "       [ 1.,  3.,  9., 27.]])"
      ]
     },
     "execution_count": 49,
     "metadata": {},
     "output_type": "execute_result"
    }
   ],
   "source": [
    "np.fromfunction(lambda i,j : i**j, (4,4))"
   ]
  },
  {
   "cell_type": "code",
   "execution_count": 50,
   "id": "ecb6de38",
   "metadata": {},
   "outputs": [
    {
     "data": {
      "text/plain": [
       "[0, 1, 4, 9, 16]"
      ]
     },
     "execution_count": 50,
     "metadata": {},
     "output_type": "execute_result"
    }
   ],
   "source": [
    "# list comprehension\n",
    "[i*i for i in range(5)]"
   ]
  },
  {
   "cell_type": "code",
   "execution_count": 51,
   "id": "6a10003e",
   "metadata": {},
   "outputs": [],
   "source": [
    "# generator\n",
    "gen = (i*i for i in range(5))"
   ]
  },
  {
   "cell_type": "code",
   "execution_count": 52,
   "id": "cdb62080",
   "metadata": {},
   "outputs": [
    {
     "data": {
      "text/plain": [
       "<generator object <genexpr> at 0x000001F14FBC90B0>"
      ]
     },
     "execution_count": 52,
     "metadata": {},
     "output_type": "execute_result"
    }
   ],
   "source": [
    "gen"
   ]
  },
  {
   "cell_type": "code",
   "execution_count": 53,
   "id": "10dd31cc",
   "metadata": {},
   "outputs": [
    {
     "name": "stdout",
     "output_type": "stream",
     "text": [
      "0\n",
      "1\n",
      "4\n",
      "9\n",
      "16\n"
     ]
    }
   ],
   "source": [
    "# normal generation\n",
    "for i in gen:\n",
    "    print(i)"
   ]
  },
  {
   "cell_type": "code",
   "execution_count": 54,
   "id": "320d9457",
   "metadata": {},
   "outputs": [],
   "source": [
    "# generator\n",
    "gen = (i*i for i in range(5))"
   ]
  },
  {
   "cell_type": "code",
   "execution_count": 55,
   "id": "1f6eae5b",
   "metadata": {},
   "outputs": [
    {
     "data": {
      "text/plain": [
       "array([ 0,  1,  4,  9, 16])"
      ]
     },
     "execution_count": 55,
     "metadata": {},
     "output_type": "execute_result"
    }
   ],
   "source": [
    "# generating data from generator func\n",
    "np.fromiter(gen,dtype = int)"
   ]
  },
  {
   "cell_type": "code",
   "execution_count": 56,
   "id": "9dcb8f45",
   "metadata": {},
   "outputs": [
    {
     "data": {
      "text/plain": [
       "array([0, 1, 2, 3, 4])"
      ]
     },
     "execution_count": 56,
     "metadata": {},
     "output_type": "execute_result"
    }
   ],
   "source": [
    "np.fromiter(range(5), dtype = int)"
   ]
  },
  {
   "cell_type": "code",
   "execution_count": 57,
   "id": "25f21b74",
   "metadata": {},
   "outputs": [
    {
     "data": {
      "text/plain": [
       "array([1., 2., 3., 4., 5., 6., 7.])"
      ]
     },
     "execution_count": 57,
     "metadata": {},
     "output_type": "execute_result"
    }
   ],
   "source": [
    "# from string creating nd array\n",
    "np.fromstring('1,2,3,4,5,6,7', sep = ',' )"
   ]
  },
  {
   "cell_type": "code",
   "execution_count": 58,
   "id": "78eb3925",
   "metadata": {},
   "outputs": [
    {
     "data": {
      "text/plain": [
       "array([1, 2, 3, 4, 5, 6, 7])"
      ]
     },
     "execution_count": 58,
     "metadata": {},
     "output_type": "execute_result"
    }
   ],
   "source": [
    "# from string creating nd array\n",
    "np.fromstring('1,2,3,4,5,6,7', sep = ',', dtype = int )\n",
    "\n",
    "# here i am defining dtype as int"
   ]
  },
  {
   "cell_type": "code",
   "execution_count": 59,
   "id": "9676cd3b",
   "metadata": {},
   "outputs": [
    {
     "data": {
      "text/plain": [
       "array([  456.+0.j,   457.+0.j,  3454.+0.j, 34543.+0.j])"
      ]
     },
     "execution_count": 59,
     "metadata": {},
     "output_type": "execute_result"
    }
   ],
   "source": [
    "np.fromstring(\"456 457 3454 34543\", sep = ' ', dtype = complex)"
   ]
  },
  {
   "cell_type": "code",
   "execution_count": 60,
   "id": "c5c87f4d",
   "metadata": {},
   "outputs": [
    {
     "data": {
      "text/plain": [
       "array([  456,   457,  3454, 34543])"
      ]
     },
     "execution_count": 60,
     "metadata": {},
     "output_type": "execute_result"
    }
   ],
   "source": [
    "np.fromstring(\"456 457 3454 34543\", sep = ' ', dtype = int)"
   ]
  },
  {
   "cell_type": "markdown",
   "id": "d7b9ae2a",
   "metadata": {},
   "source": [
    "***"
   ]
  },
  {
   "cell_type": "code",
   "execution_count": 61,
   "id": "376ca496",
   "metadata": {},
   "outputs": [],
   "source": [
    "l = [3,4,5,67,8]"
   ]
  },
  {
   "cell_type": "code",
   "execution_count": 62,
   "id": "95d6df6e",
   "metadata": {},
   "outputs": [],
   "source": [
    "arr = np.array(l)"
   ]
  },
  {
   "cell_type": "code",
   "execution_count": 63,
   "id": "0462213b",
   "metadata": {},
   "outputs": [
    {
     "data": {
      "text/plain": [
       "numpy.ndarray"
      ]
     },
     "execution_count": 63,
     "metadata": {},
     "output_type": "execute_result"
    }
   ],
   "source": [
    "type(arr)"
   ]
  },
  {
   "cell_type": "code",
   "execution_count": 64,
   "id": "e46b3ccc",
   "metadata": {},
   "outputs": [
    {
     "data": {
      "text/plain": [
       "1"
      ]
     },
     "execution_count": 64,
     "metadata": {},
     "output_type": "execute_result"
    }
   ],
   "source": [
    "arr.ndim"
   ]
  },
  {
   "cell_type": "code",
   "execution_count": 65,
   "id": "4c33c958",
   "metadata": {
    "scrolled": true
   },
   "outputs": [
    {
     "data": {
      "text/plain": [
       "array([[1, 2, 3, 4],\n",
       "       [2, 3, 4, 5],\n",
       "       [4, 5, 6, 7]])"
      ]
     },
     "execution_count": 65,
     "metadata": {},
     "output_type": "execute_result"
    }
   ],
   "source": [
    "arr1 = np.array([[1,2,3,4],[2,3,4,5],[4,5,6,7]])\n",
    "arr1"
   ]
  },
  {
   "cell_type": "code",
   "execution_count": 66,
   "id": "571ad9fe",
   "metadata": {},
   "outputs": [
    {
     "data": {
      "text/plain": [
       "numpy.ndarray"
      ]
     },
     "execution_count": 66,
     "metadata": {},
     "output_type": "execute_result"
    }
   ],
   "source": [
    "type(arr1)"
   ]
  },
  {
   "cell_type": "code",
   "execution_count": 67,
   "id": "4e9973b1",
   "metadata": {},
   "outputs": [
    {
     "data": {
      "text/plain": [
       "2"
      ]
     },
     "execution_count": 67,
     "metadata": {},
     "output_type": "execute_result"
    }
   ],
   "source": [
    "# dimension of array\n",
    "arr1.ndim"
   ]
  },
  {
   "cell_type": "code",
   "execution_count": 68,
   "id": "1dbd6106",
   "metadata": {},
   "outputs": [
    {
     "data": {
      "text/plain": [
       "12"
      ]
     },
     "execution_count": 68,
     "metadata": {},
     "output_type": "execute_result"
    }
   ],
   "source": [
    "# size of array\n",
    "arr1.size"
   ]
  },
  {
   "cell_type": "code",
   "execution_count": 69,
   "id": "0f0bfeea",
   "metadata": {},
   "outputs": [
    {
     "data": {
      "text/plain": [
       "(3, 4)"
      ]
     },
     "execution_count": 69,
     "metadata": {},
     "output_type": "execute_result"
    }
   ],
   "source": [
    "# shape of data(n*m)\n",
    "# n is row, m is  column \n",
    "arr1.shape"
   ]
  },
  {
   "cell_type": "code",
   "execution_count": 70,
   "id": "a4f9a319",
   "metadata": {},
   "outputs": [
    {
     "data": {
      "text/plain": [
       "dtype('int32')"
      ]
     },
     "execution_count": 70,
     "metadata": {},
     "output_type": "execute_result"
    }
   ],
   "source": [
    "arr1.dtype"
   ]
  },
  {
   "cell_type": "code",
   "execution_count": 71,
   "id": "983e6dba",
   "metadata": {},
   "outputs": [
    {
     "data": {
      "text/plain": [
       "5"
      ]
     },
     "execution_count": 71,
     "metadata": {},
     "output_type": "execute_result"
    }
   ],
   "source": [
    "# 5 elements in the array\n",
    "arr.size"
   ]
  },
  {
   "cell_type": "code",
   "execution_count": 72,
   "id": "c65ca463",
   "metadata": {},
   "outputs": [
    {
     "data": {
      "text/plain": [
       "1"
      ]
     },
     "execution_count": 72,
     "metadata": {},
     "output_type": "execute_result"
    }
   ],
   "source": [
    "# dimension of 1-D array\n",
    "arr.ndim"
   ]
  },
  {
   "cell_type": "code",
   "execution_count": 73,
   "id": "1e6f060f",
   "metadata": {},
   "outputs": [
    {
     "data": {
      "text/plain": [
       "(5,)"
      ]
     },
     "execution_count": 73,
     "metadata": {},
     "output_type": "execute_result"
    }
   ],
   "source": [
    "# 1-D Array\n",
    "arr.shape"
   ]
  },
  {
   "cell_type": "code",
   "execution_count": 74,
   "id": "bf0f4085",
   "metadata": {},
   "outputs": [],
   "source": [
    "# 3-D array\n",
    "arr2 = np.array([[[1,2,3,4],[4,5,6,7],[2,3,47,7]],[[1,2,3,4],[4,5,6,7],[56,78,90,23]]])"
   ]
  },
  {
   "cell_type": "code",
   "execution_count": 75,
   "id": "0564f192",
   "metadata": {},
   "outputs": [
    {
     "data": {
      "text/plain": [
       "array([[[ 1,  2,  3,  4],\n",
       "        [ 4,  5,  6,  7],\n",
       "        [ 2,  3, 47,  7]],\n",
       "\n",
       "       [[ 1,  2,  3,  4],\n",
       "        [ 4,  5,  6,  7],\n",
       "        [56, 78, 90, 23]]])"
      ]
     },
     "execution_count": 75,
     "metadata": {},
     "output_type": "execute_result"
    }
   ],
   "source": [
    "arr2"
   ]
  },
  {
   "cell_type": "code",
   "execution_count": 76,
   "id": "b546482e",
   "metadata": {},
   "outputs": [
    {
     "data": {
      "text/plain": [
       "24"
      ]
     },
     "execution_count": 76,
     "metadata": {},
     "output_type": "execute_result"
    }
   ],
   "source": [
    "# total elements in array\n",
    "arr2.size"
   ]
  },
  {
   "cell_type": "code",
   "execution_count": 77,
   "id": "8900c1f1",
   "metadata": {},
   "outputs": [
    {
     "data": {
      "text/plain": [
       "(2, 3, 4)"
      ]
     },
     "execution_count": 77,
     "metadata": {},
     "output_type": "execute_result"
    }
   ],
   "source": [
    "# shape of 3-D Array\n",
    "arr2.shape"
   ]
  },
  {
   "cell_type": "code",
   "execution_count": 78,
   "id": "031d4d54",
   "metadata": {},
   "outputs": [
    {
     "data": {
      "text/plain": [
       "3"
      ]
     },
     "execution_count": 78,
     "metadata": {},
     "output_type": "execute_result"
    }
   ],
   "source": [
    "arr2.ndim"
   ]
  },
  {
   "cell_type": "code",
   "execution_count": 79,
   "id": "f87b707c",
   "metadata": {},
   "outputs": [
    {
     "data": {
      "text/plain": [
       "[0, 1, 2, 3, 4, 5]"
      ]
     },
     "execution_count": 79,
     "metadata": {},
     "output_type": "execute_result"
    }
   ],
   "source": [
    "list(range(6))"
   ]
  },
  {
   "cell_type": "code",
   "execution_count": 80,
   "id": "c7a3ece7",
   "metadata": {},
   "outputs": [
    {
     "ename": "TypeError",
     "evalue": "'float' object cannot be interpreted as an integer",
     "output_type": "error",
     "traceback": [
      "\u001b[1;31m---------------------------------------------------------------------------\u001b[0m",
      "\u001b[1;31mTypeError\u001b[0m                                 Traceback (most recent call last)",
      "\u001b[1;32mC:\\Users\\MOHIT~1.KUM\\AppData\\Local\\Temp/ipykernel_11632/938409286.py\u001b[0m in \u001b[0;36m<module>\u001b[1;34m\u001b[0m\n\u001b[0;32m      1\u001b[0m \u001b[1;31m# range function only takes integer as range\u001b[0m\u001b[1;33m\u001b[0m\u001b[1;33m\u001b[0m\u001b[0m\n\u001b[0;32m      2\u001b[0m \u001b[1;33m\u001b[0m\u001b[0m\n\u001b[1;32m----> 3\u001b[1;33m \u001b[0mlist\u001b[0m\u001b[1;33m(\u001b[0m\u001b[0mrange\u001b[0m\u001b[1;33m(\u001b[0m\u001b[1;36m6.6\u001b[0m\u001b[1;33m)\u001b[0m\u001b[1;33m)\u001b[0m\u001b[1;33m\u001b[0m\u001b[1;33m\u001b[0m\u001b[0m\n\u001b[0m\u001b[0;32m      4\u001b[0m \u001b[1;33m\u001b[0m\u001b[0m\n\u001b[0;32m      5\u001b[0m \u001b[1;31m# throws error\u001b[0m\u001b[1;33m\u001b[0m\u001b[1;33m\u001b[0m\u001b[0m\n",
      "\u001b[1;31mTypeError\u001b[0m: 'float' object cannot be interpreted as an integer"
     ]
    }
   ],
   "source": [
    "# range function only takes integer as range\n",
    "\n",
    "list(range(6.6))\n",
    "\n",
    "# throws error"
   ]
  },
  {
   "cell_type": "code",
   "execution_count": 81,
   "id": "bfbca241",
   "metadata": {},
   "outputs": [
    {
     "data": {
      "text/plain": [
       "array([0., 1., 2., 3., 4., 5., 6.])"
      ]
     },
     "execution_count": 81,
     "metadata": {},
     "output_type": "execute_result"
    }
   ],
   "source": [
    "# np.arange accepts floating point number as range input\n",
    "\n",
    "np.arange(6.6)"
   ]
  },
  {
   "cell_type": "code",
   "execution_count": 82,
   "id": "067fa1a8",
   "metadata": {},
   "outputs": [
    {
     "data": {
      "text/plain": [
       "array([6.6, 6.9, 7.2, 7.5, 7.8, 8.1, 8.4, 8.7, 9. ])"
      ]
     },
     "execution_count": 82,
     "metadata": {},
     "output_type": "execute_result"
    }
   ],
   "source": [
    "# np.arange accepts floating jumpoints\n",
    "\n",
    "np.arange(6.6, 9, 0.3)"
   ]
  },
  {
   "cell_type": "code",
   "execution_count": 83,
   "id": "8a9fa840",
   "metadata": {},
   "outputs": [
    {
     "data": {
      "text/plain": [
       "array([9. , 8.7, 8.4, 8.1, 7.8, 7.5, 7.2, 6.9, 6.6, 6.3])"
      ]
     },
     "execution_count": 83,
     "metadata": {},
     "output_type": "execute_result"
    }
   ],
   "source": [
    "# going in reverse\n",
    "# accepting upper bound because of floating point number\n",
    "\n",
    "np.arange(9, 6, -0.3)"
   ]
  },
  {
   "cell_type": "code",
   "execution_count": 84,
   "id": "598407e7",
   "metadata": {},
   "outputs": [
    {
     "data": {
      "text/plain": [
       "array([1, 2, 3, 4, 5, 6, 7, 8])"
      ]
     },
     "execution_count": 84,
     "metadata": {},
     "output_type": "execute_result"
    }
   ],
   "source": [
    "# upper bound excluding \n",
    "\n",
    "np.arange(1,9)"
   ]
  },
  {
   "cell_type": "code",
   "execution_count": 85,
   "id": "fd2511ed",
   "metadata": {},
   "outputs": [
    {
     "data": {
      "text/plain": [
       "array([3.        , 3.10204082, 3.20408163, 3.30612245, 3.40816327,\n",
       "       3.51020408, 3.6122449 , 3.71428571, 3.81632653, 3.91836735,\n",
       "       4.02040816, 4.12244898, 4.2244898 , 4.32653061, 4.42857143,\n",
       "       4.53061224, 4.63265306, 4.73469388, 4.83673469, 4.93877551,\n",
       "       5.04081633, 5.14285714, 5.24489796, 5.34693878, 5.44897959,\n",
       "       5.55102041, 5.65306122, 5.75510204, 5.85714286, 5.95918367,\n",
       "       6.06122449, 6.16326531, 6.26530612, 6.36734694, 6.46938776,\n",
       "       6.57142857, 6.67346939, 6.7755102 , 6.87755102, 6.97959184,\n",
       "       7.08163265, 7.18367347, 7.28571429, 7.3877551 , 7.48979592,\n",
       "       7.59183673, 7.69387755, 7.79591837, 7.89795918, 8.        ])"
      ]
     },
     "execution_count": 85,
     "metadata": {},
     "output_type": "execute_result"
    }
   ],
   "source": [
    "# linspace generates 50 data in between 2 end points\n",
    "# includes upper-bound as float numbers are beeen generated\n",
    "\n",
    "np.linspace(3,8)"
   ]
  },
  {
   "cell_type": "code",
   "execution_count": 86,
   "id": "4adfcb14",
   "metadata": {},
   "outputs": [
    {
     "data": {
      "text/plain": [
       "array([1.        , 1.16326531, 1.32653061, 1.48979592, 1.65306122,\n",
       "       1.81632653, 1.97959184, 2.14285714, 2.30612245, 2.46938776,\n",
       "       2.63265306, 2.79591837, 2.95918367, 3.12244898, 3.28571429,\n",
       "       3.44897959, 3.6122449 , 3.7755102 , 3.93877551, 4.10204082,\n",
       "       4.26530612, 4.42857143, 4.59183673, 4.75510204, 4.91836735,\n",
       "       5.08163265, 5.24489796, 5.40816327, 5.57142857, 5.73469388,\n",
       "       5.89795918, 6.06122449, 6.2244898 , 6.3877551 , 6.55102041,\n",
       "       6.71428571, 6.87755102, 7.04081633, 7.20408163, 7.36734694,\n",
       "       7.53061224, 7.69387755, 7.85714286, 8.02040816, 8.18367347,\n",
       "       8.34693878, 8.51020408, 8.67346939, 8.83673469, 9.        ])"
      ]
     },
     "execution_count": 86,
     "metadata": {},
     "output_type": "execute_result"
    }
   ],
   "source": [
    "np.linspace(1,9)"
   ]
  },
  {
   "cell_type": "code",
   "execution_count": 87,
   "id": "58e35ba2",
   "metadata": {},
   "outputs": [
    {
     "data": {
      "text/plain": [
       "array([1.  , 1.25, 1.5 , 1.75, 2.  ])"
      ]
     },
     "execution_count": 87,
     "metadata": {},
     "output_type": "execute_result"
    }
   ],
   "source": [
    "# dividing into 5 equal points\n",
    "\n",
    "np.linspace(1,2,5)"
   ]
  },
  {
   "cell_type": "code",
   "execution_count": 88,
   "id": "07245e3a",
   "metadata": {},
   "outputs": [
    {
     "data": {
      "text/plain": [
       "array([0.1       , 0.10111111, 0.10222222, 0.10333333, 0.10444444,\n",
       "       0.10555556, 0.10666667, 0.10777778, 0.10888889, 0.11      ])"
      ]
     },
     "execution_count": 88,
     "metadata": {},
     "output_type": "execute_result"
    }
   ],
   "source": [
    "np.linspace(0.1, 0.11, 10)"
   ]
  },
  {
   "cell_type": "code",
   "execution_count": 89,
   "id": "2dae1843",
   "metadata": {},
   "outputs": [
    {
     "data": {
      "text/plain": [
       "array([ 1.  ,  3.25,  5.5 ,  7.75, 10.  ])"
      ]
     },
     "execution_count": 89,
     "metadata": {},
     "output_type": "execute_result"
    }
   ],
   "source": [
    "np.linspace(1,10,5)"
   ]
  },
  {
   "cell_type": "code",
   "execution_count": 90,
   "id": "771fab94",
   "metadata": {},
   "outputs": [
    {
     "data": {
      "text/plain": [
       "array([ 0. ,  2.5,  5. ,  7.5, 10. ])"
      ]
     },
     "execution_count": 90,
     "metadata": {},
     "output_type": "execute_result"
    }
   ],
   "source": [
    "np.linspace(0,10,5)"
   ]
  },
  {
   "cell_type": "code",
   "execution_count": 91,
   "id": "5eb74b06",
   "metadata": {},
   "outputs": [
    {
     "data": {
      "text/plain": [
       "array([0., 0., 0., 0., 0.])"
      ]
     },
     "execution_count": 91,
     "metadata": {},
     "output_type": "execute_result"
    }
   ],
   "source": [
    "np.zeros(5)"
   ]
  },
  {
   "cell_type": "code",
   "execution_count": 25,
   "id": "47888d92",
   "metadata": {},
   "outputs": [
    {
     "data": {
      "text/plain": [
       "array([[[0., 0., 0., 0.],\n",
       "        [0., 0., 0., 0.],\n",
       "        [0., 0., 0., 0.],\n",
       "        [0., 0., 0., 0.],\n",
       "        [0., 0., 0., 0.]],\n",
       "\n",
       "       [[0., 0., 0., 0.],\n",
       "        [0., 0., 0., 0.],\n",
       "        [0., 0., 0., 0.],\n",
       "        [0., 0., 0., 0.],\n",
       "        [0., 0., 0., 0.]]])"
      ]
     },
     "execution_count": 25,
     "metadata": {},
     "output_type": "execute_result"
    }
   ],
   "source": [
    "np.zeros((2,5,4))"
   ]
  },
  {
   "cell_type": "code",
   "execution_count": 93,
   "id": "6285c07e",
   "metadata": {},
   "outputs": [
    {
     "data": {
      "text/plain": [
       "array([1., 1., 1., 1., 1., 1.])"
      ]
     },
     "execution_count": 93,
     "metadata": {},
     "output_type": "execute_result"
    }
   ],
   "source": [
    "np.ones(6)"
   ]
  },
  {
   "cell_type": "code",
   "execution_count": 94,
   "id": "1fde2806",
   "metadata": {},
   "outputs": [
    {
     "data": {
      "text/plain": [
       "array([[[1., 1., 1., 1.],\n",
       "        [1., 1., 1., 1.],\n",
       "        [1., 1., 1., 1.],\n",
       "        [1., 1., 1., 1.],\n",
       "        [1., 1., 1., 1.]],\n",
       "\n",
       "       [[1., 1., 1., 1.],\n",
       "        [1., 1., 1., 1.],\n",
       "        [1., 1., 1., 1.],\n",
       "        [1., 1., 1., 1.],\n",
       "        [1., 1., 1., 1.]]])"
      ]
     },
     "execution_count": 94,
     "metadata": {},
     "output_type": "execute_result"
    }
   ],
   "source": [
    "np.ones((2,5,4))"
   ]
  },
  {
   "cell_type": "code",
   "execution_count": 95,
   "id": "566c782c",
   "metadata": {},
   "outputs": [
    {
     "data": {
      "text/plain": [
       "array([[[6., 6., 6., 6.],\n",
       "        [6., 6., 6., 6.],\n",
       "        [6., 6., 6., 6.],\n",
       "        [6., 6., 6., 6.],\n",
       "        [6., 6., 6., 6.]],\n",
       "\n",
       "       [[6., 6., 6., 6.],\n",
       "        [6., 6., 6., 6.],\n",
       "        [6., 6., 6., 6.],\n",
       "        [6., 6., 6., 6.],\n",
       "        [6., 6., 6., 6.]]])"
      ]
     },
     "execution_count": 95,
     "metadata": {},
     "output_type": "execute_result"
    }
   ],
   "source": [
    "np.ones((2,5,4))+5"
   ]
  },
  {
   "cell_type": "code",
   "execution_count": 96,
   "id": "8a7b67a0",
   "metadata": {},
   "outputs": [
    {
     "data": {
      "text/plain": [
       "array([7.74860419e-304, 7.74860419e-304, 7.74860419e-304, 7.74860419e-304,\n",
       "       7.74860419e-304])"
      ]
     },
     "execution_count": 96,
     "metadata": {},
     "output_type": "execute_result"
    }
   ],
   "source": [
    "np.empty(5)"
   ]
  },
  {
   "cell_type": "code",
   "execution_count": 97,
   "id": "6c6d5723",
   "metadata": {
    "scrolled": true
   },
   "outputs": [
    {
     "data": {
      "text/plain": [
       "array([[4.67296746e-307, 1.69121096e-306, 1.06811083e-306,\n",
       "        1.20157112e-306],\n",
       "       [1.60218491e-306, 1.42418987e-306, 1.37961641e-306,\n",
       "        1.60220528e-306],\n",
       "       [1.24611266e-306, 9.34598925e-307, 1.24612081e-306,\n",
       "        1.20930803e+165]])"
      ]
     },
     "execution_count": 97,
     "metadata": {},
     "output_type": "execute_result"
    }
   ],
   "source": [
    "# generating random data\n",
    "np.empty((3,4))"
   ]
  },
  {
   "cell_type": "code",
   "execution_count": 98,
   "id": "e615f909",
   "metadata": {},
   "outputs": [
    {
     "data": {
      "text/plain": [
       "array([[1., 0., 0.],\n",
       "       [0., 1., 0.],\n",
       "       [0., 0., 1.]])"
      ]
     },
     "execution_count": 98,
     "metadata": {},
     "output_type": "execute_result"
    }
   ],
   "source": [
    "# represents identity matrix with determinant = 1\n",
    "np.eye(3)"
   ]
  },
  {
   "cell_type": "code",
   "execution_count": 99,
   "id": "37cebf19",
   "metadata": {},
   "outputs": [
    {
     "data": {
      "text/plain": [
       "array([[1., 0., 0., 0., 0.],\n",
       "       [0., 1., 0., 0., 0.],\n",
       "       [0., 0., 1., 0., 0.],\n",
       "       [0., 0., 0., 1., 0.],\n",
       "       [0., 0., 0., 0., 1.]])"
      ]
     },
     "execution_count": 99,
     "metadata": {},
     "output_type": "execute_result"
    }
   ],
   "source": [
    "np.eye(5)"
   ]
  },
  {
   "cell_type": "code",
   "execution_count": 51,
   "id": "5e0003b8",
   "metadata": {},
   "outputs": [
    {
     "data": {
      "text/plain": [
       "array([[99., 99.],\n",
       "       [99., 99.],\n",
       "       [99., 99.],\n",
       "       [99., 99.]])"
      ]
     },
     "execution_count": 51,
     "metadata": {},
     "output_type": "execute_result"
    }
   ],
   "source": [
    "np.full((4,2), 99, dtype = float)"
   ]
  },
  {
   "cell_type": "code",
   "execution_count": 52,
   "id": "66905682",
   "metadata": {},
   "outputs": [
    {
     "data": {
      "text/plain": [
       "array([[4, 4, 4],\n",
       "       [4, 4, 4],\n",
       "       [4, 4, 4]])"
      ]
     },
     "execution_count": 52,
     "metadata": {},
     "output_type": "execute_result"
    }
   ],
   "source": [
    "# makes this equal to dimension of arr2 with 4 as value \n",
    "np.full_like(arr2, 4)"
   ]
  },
  {
   "cell_type": "code",
   "execution_count": 54,
   "id": "ff2580da",
   "metadata": {},
   "outputs": [
    {
     "data": {
      "text/plain": [
       "array([[1, 2, 3],\n",
       "       [1, 2, 3],\n",
       "       [1, 2, 3]])"
      ]
     },
     "execution_count": 54,
     "metadata": {},
     "output_type": "execute_result"
    }
   ],
   "source": [
    "# Repeat an array\n",
    "\n",
    "arra = np.array([[1,2,3]])\n",
    "r1 = np.repeat(arra,3,axis = 0)\n",
    "r1"
   ]
  },
  {
   "cell_type": "code",
   "execution_count": 71,
   "id": "54a4089f",
   "metadata": {},
   "outputs": [
    {
     "name": "stdout",
     "output_type": "stream",
     "text": [
      "[[1. 1. 1. 1.]\n",
      " [1. 1. 1. 1.]\n",
      " [1. 1. 1. 1.]] \n",
      "\n",
      "\n",
      " [[0. 0. 0.]\n",
      " [0. 0. 0.]\n",
      " [0. 0. 0.]] \n",
      "\n",
      "\n",
      " [[1. 0. 0. 0.]\n",
      " [1. 0. 0. 0.]\n",
      " [1. 0. 0. 0.]]\n"
     ]
    }
   ],
   "source": [
    "# copying one array inside another \n",
    "\n",
    "output = np.ones((3,4))\n",
    "print(output,'\\n')\n",
    "\n",
    "z= np.zeros((3,3))\n",
    "print('\\n',z,'\\n')\n",
    "\n",
    "output[:,1:] = z\n",
    "print('\\n',output)"
   ]
  },
  {
   "cell_type": "code",
   "execution_count": 100,
   "id": "595a0a60",
   "metadata": {},
   "outputs": [
    {
     "data": {
      "text/plain": [
       "array([ 2.        ,  4.66666667,  7.33333333, 10.        ])"
      ]
     },
     "execution_count": 100,
     "metadata": {},
     "output_type": "execute_result"
    }
   ],
   "source": [
    "np.linspace(2,10,4)"
   ]
  },
  {
   "cell_type": "code",
   "execution_count": 101,
   "id": "fe930f08",
   "metadata": {},
   "outputs": [
    {
     "data": {
      "text/plain": [
       "array([2., 4., 6., 8.])"
      ]
     },
     "execution_count": 101,
     "metadata": {},
     "output_type": "execute_result"
    }
   ],
   "source": [
    "# not to include upperbound\n",
    "\n",
    "np.linspace(2,10,4,endpoint =False)"
   ]
  },
  {
   "cell_type": "code",
   "execution_count": 102,
   "id": "8e4efc4c",
   "metadata": {
    "scrolled": true
   },
   "outputs": [
    {
     "data": {
      "text/plain": [
       "array([[1.  , 1.06, 1.12, 1.18, 1.24, 1.3 , 1.36, 1.42, 1.48, 1.54, 1.6 ,\n",
       "        1.66, 1.72, 1.78, 1.84, 1.9 , 1.96, 2.02, 2.08, 2.14, 2.2 , 2.26,\n",
       "        2.32, 2.38, 2.44, 2.5 , 2.56, 2.62, 2.68, 2.74, 2.8 , 2.86, 2.92,\n",
       "        2.98, 3.04, 3.1 , 3.16, 3.22, 3.28, 3.34, 3.4 , 3.46, 3.52, 3.58,\n",
       "        3.64, 3.7 , 3.76, 3.82, 3.88, 3.94],\n",
       "       [6.  , 5.96, 5.92, 5.88, 5.84, 5.8 , 5.76, 5.72, 5.68, 5.64, 5.6 ,\n",
       "        5.56, 5.52, 5.48, 5.44, 5.4 , 5.36, 5.32, 5.28, 5.24, 5.2 , 5.16,\n",
       "        5.12, 5.08, 5.04, 5.  , 4.96, 4.92, 4.88, 4.84, 4.8 , 4.76, 4.72,\n",
       "        4.68, 4.64, 4.6 , 4.56, 4.52, 4.48, 4.44, 4.4 , 4.36, 4.32, 4.28,\n",
       "        4.24, 4.2 , 4.16, 4.12, 4.08, 4.04]])"
      ]
     },
     "execution_count": 102,
     "metadata": {},
     "output_type": "execute_result"
    }
   ],
   "source": [
    "np.linspace([1,6],4,endpoint=False, axis = 1)"
   ]
  },
  {
   "cell_type": "code",
   "execution_count": 103,
   "id": "a3138c3c",
   "metadata": {
    "scrolled": true
   },
   "outputs": [
    {
     "data": {
      "text/plain": [
       "array([[1.  , 6.  ],\n",
       "       [1.06, 5.96],\n",
       "       [1.12, 5.92],\n",
       "       [1.18, 5.88],\n",
       "       [1.24, 5.84],\n",
       "       [1.3 , 5.8 ],\n",
       "       [1.36, 5.76],\n",
       "       [1.42, 5.72],\n",
       "       [1.48, 5.68],\n",
       "       [1.54, 5.64],\n",
       "       [1.6 , 5.6 ],\n",
       "       [1.66, 5.56],\n",
       "       [1.72, 5.52],\n",
       "       [1.78, 5.48],\n",
       "       [1.84, 5.44],\n",
       "       [1.9 , 5.4 ],\n",
       "       [1.96, 5.36],\n",
       "       [2.02, 5.32],\n",
       "       [2.08, 5.28],\n",
       "       [2.14, 5.24],\n",
       "       [2.2 , 5.2 ],\n",
       "       [2.26, 5.16],\n",
       "       [2.32, 5.12],\n",
       "       [2.38, 5.08],\n",
       "       [2.44, 5.04],\n",
       "       [2.5 , 5.  ],\n",
       "       [2.56, 4.96],\n",
       "       [2.62, 4.92],\n",
       "       [2.68, 4.88],\n",
       "       [2.74, 4.84],\n",
       "       [2.8 , 4.8 ],\n",
       "       [2.86, 4.76],\n",
       "       [2.92, 4.72],\n",
       "       [2.98, 4.68],\n",
       "       [3.04, 4.64],\n",
       "       [3.1 , 4.6 ],\n",
       "       [3.16, 4.56],\n",
       "       [3.22, 4.52],\n",
       "       [3.28, 4.48],\n",
       "       [3.34, 4.44],\n",
       "       [3.4 , 4.4 ],\n",
       "       [3.46, 4.36],\n",
       "       [3.52, 4.32],\n",
       "       [3.58, 4.28],\n",
       "       [3.64, 4.24],\n",
       "       [3.7 , 4.2 ],\n",
       "       [3.76, 4.16],\n",
       "       [3.82, 4.12],\n",
       "       [3.88, 4.08],\n",
       "       [3.94, 4.04]])"
      ]
     },
     "execution_count": 103,
     "metadata": {},
     "output_type": "execute_result"
    }
   ],
   "source": [
    "# transposing the data and changing the axis\n",
    "\n",
    "np.linspace([1,6],4,endpoint=False, axis = 0)"
   ]
  },
  {
   "cell_type": "code",
   "execution_count": 32,
   "id": "44b0b48e",
   "metadata": {
    "scrolled": true
   },
   "outputs": [
    {
     "data": {
      "text/plain": [
       "array([[1.  , 6.  ],\n",
       "       [1.06, 5.96],\n",
       "       [1.12, 5.92],\n",
       "       [1.18, 5.88],\n",
       "       [1.24, 5.84],\n",
       "       [1.3 , 5.8 ],\n",
       "       [1.36, 5.76],\n",
       "       [1.42, 5.72],\n",
       "       [1.48, 5.68],\n",
       "       [1.54, 5.64],\n",
       "       [1.6 , 5.6 ],\n",
       "       [1.66, 5.56],\n",
       "       [1.72, 5.52],\n",
       "       [1.78, 5.48],\n",
       "       [1.84, 5.44],\n",
       "       [1.9 , 5.4 ],\n",
       "       [1.96, 5.36],\n",
       "       [2.02, 5.32],\n",
       "       [2.08, 5.28],\n",
       "       [2.14, 5.24],\n",
       "       [2.2 , 5.2 ],\n",
       "       [2.26, 5.16],\n",
       "       [2.32, 5.12],\n",
       "       [2.38, 5.08],\n",
       "       [2.44, 5.04],\n",
       "       [2.5 , 5.  ],\n",
       "       [2.56, 4.96],\n",
       "       [2.62, 4.92],\n",
       "       [2.68, 4.88],\n",
       "       [2.74, 4.84],\n",
       "       [2.8 , 4.8 ],\n",
       "       [2.86, 4.76],\n",
       "       [2.92, 4.72],\n",
       "       [2.98, 4.68],\n",
       "       [3.04, 4.64],\n",
       "       [3.1 , 4.6 ],\n",
       "       [3.16, 4.56],\n",
       "       [3.22, 4.52],\n",
       "       [3.28, 4.48],\n",
       "       [3.34, 4.44],\n",
       "       [3.4 , 4.4 ],\n",
       "       [3.46, 4.36],\n",
       "       [3.52, 4.32],\n",
       "       [3.58, 4.28],\n",
       "       [3.64, 4.24],\n",
       "       [3.7 , 4.2 ],\n",
       "       [3.76, 4.16],\n",
       "       [3.82, 4.12],\n",
       "       [3.88, 4.08],\n",
       "       [3.94, 4.04]])"
      ]
     },
     "execution_count": 32,
     "metadata": {},
     "output_type": "execute_result"
    }
   ],
   "source": [
    "# transposing the data and changing the axis\n",
    "\n",
    "np.linspace([1,6],4,endpoint=False, axis = 0)"
   ]
  },
  {
   "cell_type": "code",
   "execution_count": 104,
   "id": "18d9fcf9",
   "metadata": {},
   "outputs": [
    {
     "data": {
      "text/plain": [
       "array([ 100.        ,  177.827941  ,  316.22776602,  562.34132519,\n",
       "       1000.        ])"
      ]
     },
     "execution_count": 104,
     "metadata": {},
     "output_type": "execute_result"
    }
   ],
   "source": [
    "# logarithmic of the data\n",
    "\n",
    "np.logspace(2,3,5)"
   ]
  },
  {
   "cell_type": "code",
   "execution_count": 105,
   "id": "27d20fbb",
   "metadata": {},
   "outputs": [
    {
     "data": {
      "text/plain": [
       "array([[ 100.        ],\n",
       "       [ 104.81131342],\n",
       "       [ 109.8541142 ],\n",
       "       [ 115.13953993],\n",
       "       [ 120.67926406],\n",
       "       [ 126.48552169],\n",
       "       [ 132.57113656],\n",
       "       [ 138.94954944],\n",
       "       [ 145.63484775],\n",
       "       [ 152.64179672],\n",
       "       [ 159.98587196],\n",
       "       [ 167.68329368],\n",
       "       [ 175.75106249],\n",
       "       [ 184.20699693],\n",
       "       [ 193.06977289],\n",
       "       [ 202.35896477],\n",
       "       [ 212.09508879],\n",
       "       [ 222.29964825],\n",
       "       [ 232.99518105],\n",
       "       [ 244.20530945],\n",
       "       [ 255.95479227],\n",
       "       [ 268.26957953],\n",
       "       [ 281.1768698 ],\n",
       "       [ 294.70517026],\n",
       "       [ 308.88435965],\n",
       "       [ 323.74575428],\n",
       "       [ 339.32217719],\n",
       "       [ 355.64803062],\n",
       "       [ 372.75937203],\n",
       "       [ 390.69399371],\n",
       "       [ 409.49150624],\n",
       "       [ 429.19342601],\n",
       "       [ 449.8432669 ],\n",
       "       [ 471.48663635],\n",
       "       [ 494.17133613],\n",
       "       [ 517.94746792],\n",
       "       [ 542.86754393],\n",
       "       [ 568.9866029 ],\n",
       "       [ 596.36233166],\n",
       "       [ 625.05519253],\n",
       "       [ 655.12855686],\n",
       "       [ 686.648845  ],\n",
       "       [ 719.685673  ],\n",
       "       [ 754.31200634],\n",
       "       [ 790.60432109],\n",
       "       [ 828.64277285],\n",
       "       [ 868.51137375],\n",
       "       [ 910.29817799],\n",
       "       [ 954.09547635],\n",
       "       [1000.        ]])"
      ]
     },
     "execution_count": 105,
     "metadata": {},
     "output_type": "execute_result"
    }
   ],
   "source": [
    "np.logspace([2],[3])"
   ]
  },
  {
   "cell_type": "code",
   "execution_count": 106,
   "id": "f193a306",
   "metadata": {},
   "outputs": [
    {
     "data": {
      "text/plain": [
       "array([[ 100.        ,  104.81131342,  109.8541142 ,  115.13953993,\n",
       "         120.67926406,  126.48552169,  132.57113656,  138.94954944,\n",
       "         145.63484775,  152.64179672,  159.98587196,  167.68329368,\n",
       "         175.75106249,  184.20699693,  193.06977289,  202.35896477,\n",
       "         212.09508879,  222.29964825,  232.99518105,  244.20530945,\n",
       "         255.95479227,  268.26957953,  281.1768698 ,  294.70517026,\n",
       "         308.88435965,  323.74575428,  339.32217719,  355.64803062,\n",
       "         372.75937203,  390.69399371,  409.49150624,  429.19342601,\n",
       "         449.8432669 ,  471.48663635,  494.17133613,  517.94746792,\n",
       "         542.86754393,  568.9866029 ,  596.36233166,  625.05519253,\n",
       "         655.12855686,  686.648845  ,  719.685673  ,  754.31200634,\n",
       "         790.60432109,  828.64277285,  868.51137375,  910.29817799,\n",
       "         954.09547635, 1000.        ]])"
      ]
     },
     "execution_count": 106,
     "metadata": {},
     "output_type": "execute_result"
    }
   ],
   "source": [
    "np.logspace([2],[3], axis = 1)"
   ]
  },
  {
   "cell_type": "code",
   "execution_count": 107,
   "id": "88cb89bc",
   "metadata": {},
   "outputs": [
    {
     "data": {
      "text/plain": [
       "array([[   100.        , 100000.        ],\n",
       "       [   104.81131342,  91029.81779915],\n",
       "       [   109.8541142 ,  82864.27728547],\n",
       "       [   115.13953993,  75431.20063355],\n",
       "       [   120.67926406,  68664.88450043],\n",
       "       [   126.48552169,  62505.51925274],\n",
       "       [   132.57113656,  56898.66029018],\n",
       "       [   138.94954944,  51794.74679231],\n",
       "       [   145.63484775,  47148.66363457],\n",
       "       [   152.64179672,  42919.34260129],\n",
       "       [   159.98587196,  39069.39937055],\n",
       "       [   167.68329368,  35564.80306223],\n",
       "       [   175.75106249,  32374.57542818],\n",
       "       [   184.20699693,  29470.51702552],\n",
       "       [   193.06977289,  26826.9579528 ],\n",
       "       [   202.35896477,  24420.53094549],\n",
       "       [   212.09508879,  22229.96482526],\n",
       "       [   222.29964825,  20235.89647725],\n",
       "       [   232.99518105,  18420.69969327],\n",
       "       [   244.20530945,  16768.32936811],\n",
       "       [   255.95479227,  15264.17967175],\n",
       "       [   268.26957953,  13894.95494373],\n",
       "       [   281.1768698 ,  12648.55216855],\n",
       "       [   294.70517026,  11513.95399326],\n",
       "       [   308.88435965,  10481.13134155],\n",
       "       [   323.74575428,   9540.9547635 ],\n",
       "       [   339.32217719,   8685.11373751],\n",
       "       [   355.64803062,   7906.04321091],\n",
       "       [   372.75937203,   7196.85673001],\n",
       "       [   390.69399371,   6551.2855686 ],\n",
       "       [   409.49150624,   5963.62331659],\n",
       "       [   429.19342601,   5428.67543932],\n",
       "       [   449.8432669 ,   4941.71336132],\n",
       "       [   471.48663635,   4498.43266897],\n",
       "       [   494.17133613,   4094.91506238],\n",
       "       [   517.94746792,   3727.59372031],\n",
       "       [   542.86754393,   3393.2217719 ],\n",
       "       [   568.9866029 ,   3088.84359648],\n",
       "       [   596.36233166,   2811.76869797],\n",
       "       [   625.05519253,   2559.5479227 ],\n",
       "       [   655.12855686,   2329.95181052],\n",
       "       [   686.648845  ,   2120.95088792],\n",
       "       [   719.685673  ,   1930.69772888],\n",
       "       [   754.31200634,   1757.51062485],\n",
       "       [   790.60432109,   1599.85871961],\n",
       "       [   828.64277285,   1456.3484775 ],\n",
       "       [   868.51137375,   1325.71136559],\n",
       "       [   910.29817799,   1206.79264064],\n",
       "       [   954.09547635,   1098.54114199],\n",
       "       [  1000.        ,   1000.        ]])"
      ]
     },
     "execution_count": 107,
     "metadata": {},
     "output_type": "execute_result"
    }
   ],
   "source": [
    "np.logspace([2,5],[3], axis = 0)"
   ]
  },
  {
   "cell_type": "markdown",
   "id": "76fe466f",
   "metadata": {},
   "source": [
    "***"
   ]
  },
  {
   "cell_type": "code",
   "execution_count": 26,
   "id": "ad90e9b4",
   "metadata": {},
   "outputs": [
    {
     "data": {
      "text/plain": [
       "array([4.        , 4.07692308, 4.15384615, 4.23076923, 4.30769231,\n",
       "       4.38461538, 4.46153846, 4.53846154, 4.61538462, 4.69230769,\n",
       "       4.76923077, 4.84615385, 4.92307692, 5.        , 5.07692308,\n",
       "       5.15384615, 5.23076923, 5.30769231, 5.38461538, 5.46153846,\n",
       "       5.53846154, 5.61538462, 5.69230769, 5.76923077, 5.84615385,\n",
       "       5.92307692, 6.        , 6.07692308, 6.15384615, 6.23076923,\n",
       "       6.30769231, 6.38461538, 6.46153846, 6.53846154, 6.61538462,\n",
       "       6.69230769, 6.76923077, 6.84615385, 6.92307692, 7.        ])"
      ]
     },
     "execution_count": 26,
     "metadata": {},
     "output_type": "execute_result"
    }
   ],
   "source": [
    "d = np.linspace(4,7,40)\n",
    "d"
   ]
  },
  {
   "cell_type": "code",
   "execution_count": 27,
   "id": "4110b49b",
   "metadata": {},
   "outputs": [
    {
     "data": {
      "text/plain": [
       "1"
      ]
     },
     "execution_count": 27,
     "metadata": {},
     "output_type": "execute_result"
    }
   ],
   "source": [
    "# 1-D Data\n",
    "d.ndim"
   ]
  },
  {
   "cell_type": "code",
   "execution_count": 28,
   "id": "c96160b4",
   "metadata": {},
   "outputs": [
    {
     "data": {
      "text/plain": [
       "(40,)"
      ]
     },
     "execution_count": 28,
     "metadata": {},
     "output_type": "execute_result"
    }
   ],
   "source": [
    "d.shape"
   ]
  },
  {
   "cell_type": "code",
   "execution_count": 29,
   "id": "3ebf991b",
   "metadata": {},
   "outputs": [
    {
     "data": {
      "text/plain": [
       "array([[4.        ],\n",
       "       [4.07692308],\n",
       "       [4.15384615],\n",
       "       [4.23076923],\n",
       "       [4.30769231],\n",
       "       [4.38461538],\n",
       "       [4.46153846],\n",
       "       [4.53846154],\n",
       "       [4.61538462],\n",
       "       [4.69230769],\n",
       "       [4.76923077],\n",
       "       [4.84615385],\n",
       "       [4.92307692],\n",
       "       [5.        ],\n",
       "       [5.07692308],\n",
       "       [5.15384615],\n",
       "       [5.23076923],\n",
       "       [5.30769231],\n",
       "       [5.38461538],\n",
       "       [5.46153846],\n",
       "       [5.53846154],\n",
       "       [5.61538462],\n",
       "       [5.69230769],\n",
       "       [5.76923077],\n",
       "       [5.84615385],\n",
       "       [5.92307692],\n",
       "       [6.        ],\n",
       "       [6.07692308],\n",
       "       [6.15384615],\n",
       "       [6.23076923],\n",
       "       [6.30769231],\n",
       "       [6.38461538],\n",
       "       [6.46153846],\n",
       "       [6.53846154],\n",
       "       [6.61538462],\n",
       "       [6.69230769],\n",
       "       [6.76923077],\n",
       "       [6.84615385],\n",
       "       [6.92307692],\n",
       "       [7.        ]])"
      ]
     },
     "execution_count": 29,
     "metadata": {},
     "output_type": "execute_result"
    }
   ],
   "source": [
    "# reshaping 1-D data into 2-D data\n",
    "# changing it into (40x1) (40 = rows , 1 = columns)\n",
    "\n",
    "d.reshape(40,1)"
   ]
  },
  {
   "cell_type": "code",
   "execution_count": 30,
   "id": "69aefd94",
   "metadata": {
    "scrolled": false
   },
   "outputs": [
    {
     "data": {
      "text/plain": [
       "array([[[4.        , 4.07692308, 4.15384615, 4.23076923, 4.30769231,\n",
       "         4.38461538, 4.46153846, 4.53846154, 4.61538462, 4.69230769,\n",
       "         4.76923077, 4.84615385, 4.92307692, 5.        , 5.07692308,\n",
       "         5.15384615, 5.23076923, 5.30769231, 5.38461538, 5.46153846]],\n",
       "\n",
       "       [[5.53846154, 5.61538462, 5.69230769, 5.76923077, 5.84615385,\n",
       "         5.92307692, 6.        , 6.07692308, 6.15384615, 6.23076923,\n",
       "         6.30769231, 6.38461538, 6.46153846, 6.53846154, 6.61538462,\n",
       "         6.69230769, 6.76923077, 6.84615385, 6.92307692, 7.        ]]])"
      ]
     },
     "execution_count": 30,
     "metadata": {},
     "output_type": "execute_result"
    }
   ],
   "source": [
    "# reshaping 1-D data into 3-D data\n",
    "# (1x20 Matrix of 2 such matrix in 3-D space)\n",
    "\n",
    "d.reshape(2,1,20)"
   ]
  },
  {
   "cell_type": "markdown",
   "id": "39269430",
   "metadata": {},
   "source": [
    "#### NOTE: Even after reshaping the data size should be same"
   ]
  },
  {
   "cell_type": "markdown",
   "id": "ea551a3e",
   "metadata": {},
   "source": [
    "#### rand"
   ]
  },
  {
   "cell_type": "code",
   "execution_count": 113,
   "id": "df17ee74",
   "metadata": {},
   "outputs": [
    {
     "data": {
      "text/plain": [
       "array([0.00184744, 0.88560903, 0.40024272, 0.2778275 , 0.77019019])"
      ]
     },
     "execution_count": 113,
     "metadata": {},
     "output_type": "execute_result"
    }
   ],
   "source": [
    "# returns data from uniform distribution over (0,1]\n",
    "\n",
    "np.random.rand(5)"
   ]
  },
  {
   "cell_type": "markdown",
   "id": "30e7faf8",
   "metadata": {},
   "source": [
    "#### randn"
   ]
  },
  {
   "cell_type": "code",
   "execution_count": 114,
   "id": "f7af772d",
   "metadata": {},
   "outputs": [
    {
     "data": {
      "text/plain": [
       "array([-0.77234124, -0.15613138, -0.66063501, -0.62825745,  2.14923392])"
      ]
     },
     "execution_count": 114,
     "metadata": {},
     "output_type": "execute_result"
    }
   ],
   "source": [
    "# returns data from standard normal distribution\n",
    "\n",
    "np.random.randn(5)"
   ]
  },
  {
   "cell_type": "code",
   "execution_count": 115,
   "id": "16bdf9c1",
   "metadata": {},
   "outputs": [
    {
     "data": {
      "text/plain": [
       "array([[ 0.91017456, -0.67995416, -1.13045526,  0.08703252],\n",
       "       [ 0.14858473,  0.35463951, -1.09847299, -0.68543776],\n",
       "       [-1.03810719,  1.71694329,  0.1366354 ,  1.18179751],\n",
       "       [-1.33293247,  0.183156  ,  0.46971322,  0.61908776],\n",
       "       [-0.26351629, -0.91472053,  0.43226255,  0.68993706]])"
      ]
     },
     "execution_count": 115,
     "metadata": {},
     "output_type": "execute_result"
    }
   ],
   "source": [
    "# data with 5 rows and 4 columns\n",
    "np.random.randn(5,4)"
   ]
  },
  {
   "cell_type": "code",
   "execution_count": 33,
   "id": "06435401",
   "metadata": {},
   "outputs": [
    {
     "data": {
      "text/plain": [
       "array([[ 0.02007043, -1.15190783,  0.64428352],\n",
       "       [-0.20706539, -1.79758208, -1.52223511]])"
      ]
     },
     "execution_count": 33,
     "metadata": {},
     "output_type": "execute_result"
    }
   ],
   "source": [
    "np.random.randn(2,3)"
   ]
  },
  {
   "cell_type": "code",
   "execution_count": 116,
   "id": "bcaa9ca5",
   "metadata": {
    "scrolled": true
   },
   "outputs": [
    {
     "data": {
      "text/plain": [
       "array([[[ 1.84557023,  0.51810435, -0.03706017],\n",
       "        [ 0.56646926, -0.39766698,  2.99636719]],\n",
       "\n",
       "       [[ 0.03039471, -0.47192699,  1.84425574],\n",
       "        [-1.25924709,  0.80035841, -0.77164547]]])"
      ]
     },
     "execution_count": 116,
     "metadata": {},
     "output_type": "execute_result"
    }
   ],
   "source": [
    "np.random.randn(2,2,3)"
   ]
  },
  {
   "cell_type": "markdown",
   "id": "8dfea453",
   "metadata": {},
   "source": [
    "#### randint"
   ]
  },
  {
   "cell_type": "code",
   "execution_count": 117,
   "id": "e1ad729b",
   "metadata": {},
   "outputs": [
    {
     "data": {
      "text/plain": [
       "5"
      ]
     },
     "execution_count": 117,
     "metadata": {},
     "output_type": "execute_result"
    }
   ],
   "source": [
    "# integer between 5 and 10\n",
    "np.random.randint(5,10)"
   ]
  },
  {
   "cell_type": "code",
   "execution_count": 118,
   "id": "a4d020f8",
   "metadata": {},
   "outputs": [
    {
     "data": {
      "text/plain": [
       "array([[19, 27, 56, 59],\n",
       "       [28, 14, 25, 37],\n",
       "       [58, 39, 48, 31],\n",
       "       [41, 50, 44, 51]])"
      ]
     },
     "execution_count": 118,
     "metadata": {},
     "output_type": "execute_result"
    }
   ],
   "source": [
    "# generating 4x4 matrix between 5 and 60\n",
    "\n",
    "np.random.randint(5,60, (4,4))"
   ]
  },
  {
   "cell_type": "code",
   "execution_count": 119,
   "id": "9dbe15ec",
   "metadata": {},
   "outputs": [
    {
     "data": {
      "text/plain": [
       "array([[8, 8, 3],\n",
       "       [8, 4, 3],\n",
       "       [4, 7, 4]])"
      ]
     },
     "execution_count": 119,
     "metadata": {},
     "output_type": "execute_result"
    }
   ],
   "source": [
    "arr = np.random.randint(3,9,(3,3))\n",
    "arr"
   ]
  },
  {
   "cell_type": "code",
   "execution_count": 110,
   "id": "5e1a667e",
   "metadata": {},
   "outputs": [
    {
     "data": {
      "text/plain": [
       "25"
      ]
     },
     "execution_count": 110,
     "metadata": {},
     "output_type": "execute_result"
    }
   ],
   "source": [
    "# size is 9 so, reshaping should also have 9 elements\n",
    "arr.size"
   ]
  },
  {
   "cell_type": "code",
   "execution_count": 121,
   "id": "b9f7a157",
   "metadata": {},
   "outputs": [
    {
     "data": {
      "text/plain": [
       "array([[8, 8, 3, 8, 4, 3, 4, 7, 4]])"
      ]
     },
     "execution_count": 121,
     "metadata": {},
     "output_type": "execute_result"
    }
   ],
   "source": [
    "# reshaping it in 1x9 i.e. 1 row and 9 column\n",
    "\n",
    "arr.reshape(1,9)"
   ]
  },
  {
   "cell_type": "code",
   "execution_count": 122,
   "id": "6dac68b9",
   "metadata": {},
   "outputs": [
    {
     "data": {
      "text/plain": [
       "array([[8],\n",
       "       [8],\n",
       "       [3],\n",
       "       [8],\n",
       "       [4],\n",
       "       [3],\n",
       "       [4],\n",
       "       [7],\n",
       "       [4]])"
      ]
     },
     "execution_count": 122,
     "metadata": {},
     "output_type": "execute_result"
    }
   ],
   "source": [
    "# reshaping it in 9x1 i.e. 9 row and 1 column\n",
    "\n",
    "arr.reshape(9,1)"
   ]
  },
  {
   "cell_type": "code",
   "execution_count": 123,
   "id": "a73a6496",
   "metadata": {},
   "outputs": [
    {
     "data": {
      "text/plain": [
       "array([[[8, 8, 3, 8, 4, 3, 4, 7, 4]]])"
      ]
     },
     "execution_count": 123,
     "metadata": {},
     "output_type": "execute_result"
    }
   ],
   "source": [
    "# reshaping data in 3-D\n",
    "\n",
    "arr.reshape(1,1,9)"
   ]
  },
  {
   "cell_type": "code",
   "execution_count": 124,
   "id": "21814dfa",
   "metadata": {},
   "outputs": [
    {
     "data": {
      "text/plain": [
       "array([[[8],\n",
       "        [8],\n",
       "        [3]],\n",
       "\n",
       "       [[8],\n",
       "        [4],\n",
       "        [3]],\n",
       "\n",
       "       [[4],\n",
       "        [7],\n",
       "        [4]]])"
      ]
     },
     "execution_count": 124,
     "metadata": {},
     "output_type": "execute_result"
    }
   ],
   "source": [
    "arr.reshape(3,3,1)"
   ]
  },
  {
   "cell_type": "code",
   "execution_count": 125,
   "id": "a47619ce",
   "metadata": {},
   "outputs": [
    {
     "data": {
      "text/plain": [
       "array([[8, 8, 3],\n",
       "       [8, 4, 3],\n",
       "       [4, 7, 4]])"
      ]
     },
     "execution_count": 125,
     "metadata": {},
     "output_type": "execute_result"
    }
   ],
   "source": [
    "arr.reshape(3,-1)"
   ]
  },
  {
   "cell_type": "code",
   "execution_count": 126,
   "id": "c3a467a2",
   "metadata": {},
   "outputs": [
    {
     "data": {
      "text/plain": [
       "array([[8, 8, 3, 8, 4, 3, 4, 7, 4]])"
      ]
     },
     "execution_count": 126,
     "metadata": {},
     "output_type": "execute_result"
    }
   ],
   "source": [
    "arr.reshape(1,-14455)"
   ]
  },
  {
   "cell_type": "code",
   "execution_count": 127,
   "id": "f8d70a4f",
   "metadata": {},
   "outputs": [
    {
     "data": {
      "text/plain": [
       "8"
      ]
     },
     "execution_count": 127,
     "metadata": {},
     "output_type": "execute_result"
    }
   ],
   "source": [
    "# max elelment of array\n",
    "arr.max()"
   ]
  },
  {
   "cell_type": "code",
   "execution_count": 128,
   "id": "c26dcf32",
   "metadata": {},
   "outputs": [
    {
     "data": {
      "text/plain": [
       "3"
      ]
     },
     "execution_count": 128,
     "metadata": {},
     "output_type": "execute_result"
    }
   ],
   "source": [
    "# min element of array\n",
    "arr.min()"
   ]
  },
  {
   "cell_type": "markdown",
   "id": "5facb380",
   "metadata": {},
   "source": [
    "#### extracting part of matrix"
   ]
  },
  {
   "cell_type": "code",
   "execution_count": 35,
   "id": "8498e2da",
   "metadata": {},
   "outputs": [
    {
     "data": {
      "text/plain": [
       "array([[29,  4, 98, 29, 29],\n",
       "       [81, 65, 52, 83, 87],\n",
       "       [63, 11, 41, 12, 98],\n",
       "       [58, 56, 64, 91, 76],\n",
       "       [88, 53, 64, 26, 10]])"
      ]
     },
     "execution_count": 35,
     "metadata": {},
     "output_type": "execute_result"
    }
   ],
   "source": [
    "arr = np.random.randint(4,100, (5,5))\n",
    "arr\n",
    "\n",
    "# dimension is 5x5"
   ]
  },
  {
   "cell_type": "code",
   "execution_count": 36,
   "id": "10a93d5d",
   "metadata": {},
   "outputs": [
    {
     "data": {
      "text/plain": [
       "array([[91, 76],\n",
       "       [26, 10]])"
      ]
     },
     "execution_count": 36,
     "metadata": {},
     "output_type": "execute_result"
    }
   ],
   "source": [
    "# going from 3rd row till last\n",
    "# first 3: is for row\n",
    "# second 3: is for column\n",
    "\n",
    "arr[3: , 3: ]"
   ]
  },
  {
   "cell_type": "code",
   "execution_count": 37,
   "id": "78f4e2fa",
   "metadata": {},
   "outputs": [
    {
     "data": {
      "text/plain": [
       "array([[ 4, 29],\n",
       "       [65, 83],\n",
       "       [11, 12],\n",
       "       [56, 91],\n",
       "       [53, 26]])"
      ]
     },
     "execution_count": 37,
     "metadata": {},
     "output_type": "execute_result"
    }
   ],
   "source": [
    "# entire row and column 2nd and 4th\n",
    "arr[:,[1,3]]"
   ]
  },
  {
   "cell_type": "code",
   "execution_count": 38,
   "id": "2e8c433c",
   "metadata": {},
   "outputs": [
    {
     "data": {
      "text/plain": [
       "array([[29,  4, 98, 29, 29],\n",
       "       [81, 65, 52, 83, 87],\n",
       "       [63, 11, 41, 12, 98],\n",
       "       [58, 56, 64, 91, 76],\n",
       "       [88, 53, 64, 26, 10]])"
      ]
     },
     "execution_count": 38,
     "metadata": {},
     "output_type": "execute_result"
    }
   ],
   "source": [
    "arr"
   ]
  },
  {
   "cell_type": "code",
   "execution_count": 39,
   "id": "e01b6897",
   "metadata": {
    "scrolled": true
   },
   "outputs": [
    {
     "data": {
      "text/plain": [
       "array([[ True, False,  True,  True,  True],\n",
       "       [ True,  True,  True,  True,  True],\n",
       "       [ True,  True,  True,  True,  True],\n",
       "       [ True,  True,  True,  True,  True],\n",
       "       [ True,  True,  True,  True, False]])"
      ]
     },
     "execution_count": 39,
     "metadata": {},
     "output_type": "execute_result"
    }
   ],
   "source": [
    "arr>10"
   ]
  },
  {
   "cell_type": "code",
   "execution_count": 134,
   "id": "17e4d3e2",
   "metadata": {
    "scrolled": true
   },
   "outputs": [
    {
     "data": {
      "text/plain": [
       "array([64, 47, 25, 56, 77, 34, 15, 36, 55, 20, 15, 13, 47, 72, 16, 56, 25,\n",
       "       20, 13, 44, 72])"
      ]
     },
     "execution_count": 134,
     "metadata": {},
     "output_type": "execute_result"
    }
   ],
   "source": [
    "arr[arr>10]"
   ]
  },
  {
   "cell_type": "code",
   "execution_count": 48,
   "id": "a30f12b1",
   "metadata": {
    "scrolled": true
   },
   "outputs": [
    {
     "ename": "AttributeError",
     "evalue": "'numpy.ndarray' object has no attribute 'loc'",
     "output_type": "error",
     "traceback": [
      "\u001b[1;31m---------------------------------------------------------------------------\u001b[0m",
      "\u001b[1;31mAttributeError\u001b[0m                            Traceback (most recent call last)",
      "\u001b[1;32mC:\\Users\\MOHIT~1.KUM\\AppData\\Local\\Temp/ipykernel_18732/3250764354.py\u001b[0m in \u001b[0;36m<module>\u001b[1;34m\u001b[0m\n\u001b[1;32m----> 1\u001b[1;33m \u001b[0marr\u001b[0m\u001b[1;33m.\u001b[0m\u001b[0mloc\u001b[0m\u001b[1;33m(\u001b[0m\u001b[0marr\u001b[0m\u001b[1;33m>\u001b[0m\u001b[1;36m10\u001b[0m\u001b[1;33m)\u001b[0m\u001b[1;33m\u001b[0m\u001b[1;33m\u001b[0m\u001b[0m\n\u001b[0m",
      "\u001b[1;31mAttributeError\u001b[0m: 'numpy.ndarray' object has no attribute 'loc'"
     ]
    }
   ],
   "source": [
    "\n",
    "arr.loc(arr>10)\n",
    "\n",
    "#will throw error"
   ]
  },
  {
   "cell_type": "markdown",
   "id": "7dad281c",
   "metadata": {},
   "source": [
    "#### Note: .loc doesnot work in numpy"
   ]
  },
  {
   "cell_type": "code",
   "execution_count": 135,
   "id": "52b7ba92",
   "metadata": {},
   "outputs": [
    {
     "data": {
      "text/plain": [
       "array([[4096, 2209,  625, 3136,   81],\n",
       "       [5929, 1156,  225, 1296, 3025],\n",
       "       [ 400,   64,  225,   16,  169],\n",
       "       [2209,   16, 5184,  256, 3136],\n",
       "       [ 625,  400,  169, 1936, 5184]])"
      ]
     },
     "execution_count": 135,
     "metadata": {},
     "output_type": "execute_result"
    }
   ],
   "source": [
    "arr*arr"
   ]
  },
  {
   "cell_type": "code",
   "execution_count": 73,
   "id": "bb4f1638",
   "metadata": {},
   "outputs": [
    {
     "data": {
      "text/plain": [
       "array([[2, 2, 3],\n",
       "       [2, 3, 3],\n",
       "       [2, 3, 2]])"
      ]
     },
     "execution_count": 73,
     "metadata": {},
     "output_type": "execute_result"
    }
   ],
   "source": [
    "arr1 = np.random.randint(2,4,(3,3))\n",
    "arr1"
   ]
  },
  {
   "cell_type": "code",
   "execution_count": 74,
   "id": "2cc2ede3",
   "metadata": {},
   "outputs": [
    {
     "data": {
      "text/plain": [
       "array([[3, 2, 2],\n",
       "       [2, 2, 3],\n",
       "       [3, 2, 3]])"
      ]
     },
     "execution_count": 74,
     "metadata": {},
     "output_type": "execute_result"
    }
   ],
   "source": [
    "arr2 = np.random.randint(2,4,(3,3))\n",
    "arr2"
   ]
  },
  {
   "cell_type": "code",
   "execution_count": 75,
   "id": "483bee98",
   "metadata": {
    "scrolled": true
   },
   "outputs": [
    {
     "data": {
      "text/plain": [
       "array([[6, 4, 6],\n",
       "       [4, 6, 9],\n",
       "       [6, 6, 6]])"
      ]
     },
     "execution_count": 75,
     "metadata": {},
     "output_type": "execute_result"
    }
   ],
   "source": [
    "# this is not a matrix multiplication it is just element multiplication\n",
    "\n",
    "arr1*arr2"
   ]
  },
  {
   "cell_type": "code",
   "execution_count": 76,
   "id": "15438cfa",
   "metadata": {},
   "outputs": [
    {
     "data": {
      "text/plain": [
       "array([[2, 3],\n",
       "       [3, 3],\n",
       "       [3, 3]])"
      ]
     },
     "execution_count": 76,
     "metadata": {},
     "output_type": "execute_result"
    }
   ],
   "source": [
    "# 2x2 matrix\n",
    "\n",
    "arr3 = np.random.randint(2,4,(3,2)) \n",
    "arr3"
   ]
  },
  {
   "cell_type": "code",
   "execution_count": 77,
   "id": "fd68de44",
   "metadata": {
    "scrolled": true
   },
   "outputs": [
    {
     "ename": "ValueError",
     "evalue": "operands could not be broadcast together with shapes (3,3) (3,2) ",
     "output_type": "error",
     "traceback": [
      "\u001b[1;31m---------------------------------------------------------------------------\u001b[0m",
      "\u001b[1;31mValueError\u001b[0m                                Traceback (most recent call last)",
      "\u001b[1;32mC:\\Users\\MOHIT~1.KUM\\AppData\\Local\\Temp/ipykernel_18732/4169809502.py\u001b[0m in \u001b[0;36m<module>\u001b[1;34m\u001b[0m\n\u001b[1;32m----> 1\u001b[1;33m \u001b[0marr2\u001b[0m \u001b[1;33m*\u001b[0m \u001b[0marr3\u001b[0m\u001b[1;33m\u001b[0m\u001b[1;33m\u001b[0m\u001b[0m\n\u001b[0m\u001b[0;32m      2\u001b[0m \u001b[1;33m\u001b[0m\u001b[0m\n\u001b[0;32m      3\u001b[0m \u001b[1;31m# will throw error\u001b[0m\u001b[1;33m\u001b[0m\u001b[1;33m\u001b[0m\u001b[0m\n",
      "\u001b[1;31mValueError\u001b[0m: operands could not be broadcast together with shapes (3,3) (3,2) "
     ]
    }
   ],
   "source": [
    "arr2 * arr3\n",
    "\n",
    "# will throw error"
   ]
  },
  {
   "cell_type": "markdown",
   "id": "537b046c",
   "metadata": {},
   "source": [
    "#### NOTE: Dimension of both the matrix for element multiplication should be same"
   ]
  },
  {
   "cell_type": "code",
   "execution_count": 78,
   "id": "15f23076",
   "metadata": {
    "scrolled": true
   },
   "outputs": [
    {
     "data": {
      "text/plain": [
       "array([[19, 14, 19],\n",
       "       [21, 16, 22],\n",
       "       [18, 14, 19]])"
      ]
     },
     "execution_count": 78,
     "metadata": {},
     "output_type": "execute_result"
    }
   ],
   "source": [
    "# This is matrix multiplication\n",
    "\n",
    "arr1@arr2"
   ]
  },
  {
   "cell_type": "code",
   "execution_count": 79,
   "id": "a1fa71b3",
   "metadata": {},
   "outputs": [
    {
     "data": {
      "text/plain": [
       "(3, 2)"
      ]
     },
     "execution_count": 79,
     "metadata": {},
     "output_type": "execute_result"
    }
   ],
   "source": [
    "arr3.shape"
   ]
  },
  {
   "cell_type": "code",
   "execution_count": 80,
   "id": "6e00485a",
   "metadata": {},
   "outputs": [
    {
     "data": {
      "text/plain": [
       "(3, 3)"
      ]
     },
     "execution_count": 80,
     "metadata": {},
     "output_type": "execute_result"
    }
   ],
   "source": [
    "arr2.shape"
   ]
  },
  {
   "cell_type": "markdown",
   "id": "86101ece",
   "metadata": {},
   "source": [
    "### matrix multiplication"
   ]
  },
  {
   "cell_type": "code",
   "execution_count": 81,
   "id": "d6ede096",
   "metadata": {
    "scrolled": true
   },
   "outputs": [
    {
     "data": {
      "text/plain": [
       "array([[18, 21],\n",
       "       [19, 21],\n",
       "       [21, 24]])"
      ]
     },
     "execution_count": 81,
     "metadata": {},
     "output_type": "execute_result"
    }
   ],
   "source": [
    "# here between arr2 and arr3 matrix multiplication is happening. arr2 = r2*c2, arr3 = r3*c3, so value of c2 = r3,\n",
    "# then matrix multiplication can happen but still index multiplication won't happen.\n",
    "# dimension of final matrix will be r2xc3\n",
    "\n",
    "arr2@arr3"
   ]
  },
  {
   "cell_type": "code",
   "execution_count": 82,
   "id": "64ad885b",
   "metadata": {},
   "outputs": [
    {
     "data": {
      "text/plain": [
       "array([[18, 21],\n",
       "       [19, 21],\n",
       "       [21, 24]])"
      ]
     },
     "execution_count": 82,
     "metadata": {},
     "output_type": "execute_result"
    }
   ],
   "source": [
    "# another way of doing matrix multilpication\n",
    "\n",
    "np.matmul(arr2,arr3)"
   ]
  },
  {
   "cell_type": "code",
   "execution_count": 143,
   "id": "8d10a98c",
   "metadata": {},
   "outputs": [
    {
     "data": {
      "text/plain": [
       "array([[4096, 2209,  625, 3136,   81],\n",
       "       [5929, 1156,  225, 1296, 3025],\n",
       "       [ 400,   64,  225,   16,  169],\n",
       "       [2209,   16, 5184,  256, 3136],\n",
       "       [ 625,  400,  169, 1936, 5184]], dtype=int32)"
      ]
     },
     "execution_count": 143,
     "metadata": {},
     "output_type": "execute_result"
    }
   ],
   "source": [
    "# square of array\n",
    "arr**2"
   ]
  },
  {
   "cell_type": "markdown",
   "id": "e728e1fd",
   "metadata": {},
   "source": [
    "### Broadcasting\n",
    "\n",
    "What we are doing with 1 row is being done with the entire array"
   ]
  },
  {
   "cell_type": "code",
   "execution_count": 144,
   "id": "8b9279ad",
   "metadata": {},
   "outputs": [
    {
     "data": {
      "text/plain": [
       "array([[0., 0., 0., 0.],\n",
       "       [0., 0., 0., 0.],\n",
       "       [0., 0., 0., 0.]])"
      ]
     },
     "execution_count": 144,
     "metadata": {},
     "output_type": "execute_result"
    }
   ],
   "source": [
    "arr = np.zeros((3,4))\n",
    "arr"
   ]
  },
  {
   "cell_type": "code",
   "execution_count": 145,
   "id": "7b4770df",
   "metadata": {},
   "outputs": [
    {
     "data": {
      "text/plain": [
       "array([1, 2, 3, 4])"
      ]
     },
     "execution_count": 145,
     "metadata": {},
     "output_type": "execute_result"
    }
   ],
   "source": [
    "a = np.array([1,2,3,4])\n",
    "a"
   ]
  },
  {
   "cell_type": "markdown",
   "id": "1f0d3935",
   "metadata": {},
   "source": [
    "#### column-wise broadcasting"
   ]
  },
  {
   "cell_type": "code",
   "execution_count": 146,
   "id": "0c55a338",
   "metadata": {},
   "outputs": [
    {
     "data": {
      "text/plain": [
       "array([[1., 2., 3., 4.],\n",
       "       [1., 2., 3., 4.],\n",
       "       [1., 2., 3., 4.]])"
      ]
     },
     "execution_count": 146,
     "metadata": {},
     "output_type": "execute_result"
    }
   ],
   "source": [
    "arr + a"
   ]
  },
  {
   "cell_type": "code",
   "execution_count": 147,
   "id": "3c8ed6ca",
   "metadata": {},
   "outputs": [
    {
     "data": {
      "text/plain": [
       "array([[5., 5., 5., 5.],\n",
       "       [5., 5., 5., 5.],\n",
       "       [5., 5., 5., 5.]])"
      ]
     },
     "execution_count": 147,
     "metadata": {},
     "output_type": "execute_result"
    }
   ],
   "source": [
    "arr+5"
   ]
  },
  {
   "cell_type": "code",
   "execution_count": 148,
   "id": "f2c72639",
   "metadata": {},
   "outputs": [
    {
     "data": {
      "text/plain": [
       "array([1, 2, 3])"
      ]
     },
     "execution_count": 148,
     "metadata": {},
     "output_type": "execute_result"
    }
   ],
   "source": [
    "arr2  = np.array([1,2,3])\n",
    "arr2"
   ]
  },
  {
   "cell_type": "code",
   "execution_count": 149,
   "id": "e48f2e70",
   "metadata": {},
   "outputs": [
    {
     "ename": "ValueError",
     "evalue": "operands could not be broadcast together with shapes (3,2) (3,) ",
     "output_type": "error",
     "traceback": [
      "\u001b[1;31m---------------------------------------------------------------------------\u001b[0m",
      "\u001b[1;31mValueError\u001b[0m                                Traceback (most recent call last)",
      "\u001b[1;32mC:\\Users\\MOHIT~1.KUM\\AppData\\Local\\Temp/ipykernel_11632/2615539426.py\u001b[0m in \u001b[0;36m<module>\u001b[1;34m\u001b[0m\n\u001b[0;32m      1\u001b[0m \u001b[1;31m# different dimension array\u001b[0m\u001b[1;33m\u001b[0m\u001b[1;33m\u001b[0m\u001b[0m\n\u001b[0;32m      2\u001b[0m \u001b[1;33m\u001b[0m\u001b[0m\n\u001b[1;32m----> 3\u001b[1;33m \u001b[0marr3\u001b[0m \u001b[1;33m*\u001b[0m \u001b[0marr2\u001b[0m\u001b[1;33m\u001b[0m\u001b[1;33m\u001b[0m\u001b[0m\n\u001b[0m\u001b[0;32m      4\u001b[0m \u001b[1;33m\u001b[0m\u001b[0m\n\u001b[0;32m      5\u001b[0m \u001b[1;31m# will throw error\u001b[0m\u001b[1;33m\u001b[0m\u001b[1;33m\u001b[0m\u001b[0m\n",
      "\u001b[1;31mValueError\u001b[0m: operands could not be broadcast together with shapes (3,2) (3,) "
     ]
    }
   ],
   "source": [
    "# different dimension array\n",
    "\n",
    "arr3 * arr2\n",
    "\n",
    "# will throw error"
   ]
  },
  {
   "cell_type": "markdown",
   "id": "766c21e5",
   "metadata": {},
   "source": [
    "#### Note: for broadcasting the number of columns in both matrix should be same "
   ]
  },
  {
   "cell_type": "markdown",
   "id": "079875f3",
   "metadata": {},
   "source": [
    "#### Row-wise Broadcasting"
   ]
  },
  {
   "cell_type": "code",
   "execution_count": 150,
   "id": "2d2529bb",
   "metadata": {},
   "outputs": [
    {
     "data": {
      "text/plain": [
       "array([[0., 0., 0., 0.],\n",
       "       [0., 0., 0., 0.],\n",
       "       [0., 0., 0., 0.]])"
      ]
     },
     "execution_count": 150,
     "metadata": {},
     "output_type": "execute_result"
    }
   ],
   "source": [
    "arr"
   ]
  },
  {
   "cell_type": "code",
   "execution_count": 151,
   "id": "4fab3ec1",
   "metadata": {},
   "outputs": [
    {
     "data": {
      "text/plain": [
       "array([5, 6, 7])"
      ]
     },
     "execution_count": 151,
     "metadata": {},
     "output_type": "execute_result"
    }
   ],
   "source": [
    "b = np.array([5,6,7])\n",
    "b"
   ]
  },
  {
   "cell_type": "code",
   "execution_count": 152,
   "id": "39b3b8fa",
   "metadata": {},
   "outputs": [
    {
     "data": {
      "text/plain": [
       "array([[5],\n",
       "       [6],\n",
       "       [7]])"
      ]
     },
     "execution_count": 152,
     "metadata": {},
     "output_type": "execute_result"
    }
   ],
   "source": [
    "# Way 1\n",
    "# reshaping b into 3x1\n",
    "\n",
    "b.reshape(3,1)"
   ]
  },
  {
   "cell_type": "code",
   "execution_count": 153,
   "id": "2b618a03",
   "metadata": {},
   "outputs": [
    {
     "data": {
      "text/plain": [
       "array([[5., 5., 5., 5.],\n",
       "       [6., 6., 6., 6.],\n",
       "       [7., 7., 7., 7.]])"
      ]
     },
     "execution_count": 153,
     "metadata": {},
     "output_type": "execute_result"
    }
   ],
   "source": [
    "b.reshape(3,1) + arr"
   ]
  },
  {
   "cell_type": "code",
   "execution_count": 154,
   "id": "3dc02556",
   "metadata": {},
   "outputs": [
    {
     "data": {
      "text/plain": [
       "array([[5, 6, 7]])"
      ]
     },
     "execution_count": 154,
     "metadata": {},
     "output_type": "execute_result"
    }
   ],
   "source": [
    "# Way 2 \n",
    "# Making b into 2-D\n",
    "\n",
    "b = np.array([[5,6,7]])\n",
    "b"
   ]
  },
  {
   "cell_type": "code",
   "execution_count": 155,
   "id": "a372f1d9",
   "metadata": {},
   "outputs": [
    {
     "data": {
      "text/plain": [
       "array([[5],\n",
       "       [6],\n",
       "       [7]])"
      ]
     },
     "execution_count": 155,
     "metadata": {},
     "output_type": "execute_result"
    }
   ],
   "source": [
    "# Transposing b\n",
    "\n",
    "b.T"
   ]
  },
  {
   "cell_type": "code",
   "execution_count": 156,
   "id": "3b99a80e",
   "metadata": {},
   "outputs": [
    {
     "data": {
      "text/plain": [
       "array([[5., 5., 5., 5.],\n",
       "       [6., 6., 6., 6.],\n",
       "       [7., 7., 7., 7.]])"
      ]
     },
     "execution_count": 156,
     "metadata": {},
     "output_type": "execute_result"
    }
   ],
   "source": [
    "b.T + arr"
   ]
  },
  {
   "cell_type": "code",
   "execution_count": 157,
   "id": "da8c8eca",
   "metadata": {},
   "outputs": [
    {
     "data": {
      "text/plain": [
       "array([[0.91070038, 0.47566259, 0.54350812, 0.79120829],\n",
       "       [0.19976179, 0.77675375, 0.07508657, 0.62854066],\n",
       "       [0.92184126, 0.89019137, 0.74698397, 0.43675933],\n",
       "       [0.25783904, 0.28666166, 0.25759224, 0.38099527],\n",
       "       [0.08262398, 0.2814103 , 0.59992434, 0.15614724]])"
      ]
     },
     "execution_count": 157,
     "metadata": {},
     "output_type": "execute_result"
    }
   ],
   "source": [
    "arr = np.random.rand(5,4)\n",
    "arr"
   ]
  },
  {
   "cell_type": "code",
   "execution_count": 158,
   "id": "bec9394c",
   "metadata": {},
   "outputs": [
    {
     "data": {
      "text/plain": [
       "array([[0.95430623, 0.68968296, 0.73723003, 0.8894989 ],\n",
       "       [0.44694719, 0.88133634, 0.27401928, 0.79280556],\n",
       "       [0.96012565, 0.94349953, 0.86428234, 0.6608777 ],\n",
       "       [0.50777853, 0.53540794, 0.50753546, 0.61724814],\n",
       "       [0.28744386, 0.53048119, 0.77454783, 0.3951547 ]])"
      ]
     },
     "execution_count": 158,
     "metadata": {},
     "output_type": "execute_result"
    }
   ],
   "source": [
    "# square root of all the elements\n",
    "\n",
    "np.sqrt(arr)"
   ]
  },
  {
   "cell_type": "code",
   "execution_count": 159,
   "id": "275554b3",
   "metadata": {},
   "outputs": [
    {
     "data": {
      "text/plain": [
       "array([[2.48606311, 1.60908   , 1.7220374 , 2.20606037],\n",
       "       [1.22111185, 2.17440214, 1.07797746, 1.8748725 ],\n",
       "       [2.5139149 , 2.43559571, 2.11062469, 1.54768355],\n",
       "       [1.2941305 , 1.33197348, 1.29381115, 1.46374069],\n",
       "       [1.08613332, 1.32499714, 1.82198094, 1.16899831]])"
      ]
     },
     "execution_count": 159,
     "metadata": {},
     "output_type": "execute_result"
    }
   ],
   "source": [
    "# exponent value of elements\n",
    "\n",
    "np.exp(arr)"
   ]
  },
  {
   "cell_type": "code",
   "execution_count": 160,
   "id": "7dc58c36",
   "metadata": {},
   "outputs": [
    {
     "data": {
      "text/plain": [
       "array([[-0.04062448, -0.322701  , -0.26479396, -0.10170917],\n",
       "       [-0.69948757, -0.10971664, -1.12443776, -0.20166663],\n",
       "       [-0.03534386, -0.05051662, -0.12668872, -0.35975781],\n",
       "       [-0.58865133, -0.54263039, -0.58906722, -0.41908041],\n",
       "       [-1.08289391, -0.55066001, -0.22190352, -0.80646569]])"
      ]
     },
     "execution_count": 160,
     "metadata": {},
     "output_type": "execute_result"
    }
   ],
   "source": [
    "np.log10(arr)"
   ]
  },
  {
   "cell_type": "code",
   "execution_count": 161,
   "id": "db687c4c",
   "metadata": {},
   "outputs": [
    {
     "data": {
      "text/plain": [
       "array([[3, 2, 4, 2, 2],\n",
       "       [2, 4, 3, 3, 4],\n",
       "       [2, 3, 2, 3, 3],\n",
       "       [2, 3, 4, 4, 3],\n",
       "       [4, 4, 3, 3, 2]])"
      ]
     },
     "execution_count": 161,
     "metadata": {},
     "output_type": "execute_result"
    }
   ],
   "source": [
    "arr1 = np.random.randint(2,5, (5,5))\n",
    "arr1"
   ]
  },
  {
   "cell_type": "code",
   "execution_count": 162,
   "id": "b30915ab",
   "metadata": {},
   "outputs": [
    {
     "data": {
      "text/plain": [
       "array([[0.47712125, 0.30103   , 0.60205999, 0.30103   , 0.30103   ],\n",
       "       [0.30103   , 0.60205999, 0.47712125, 0.47712125, 0.60205999],\n",
       "       [0.30103   , 0.47712125, 0.30103   , 0.47712125, 0.47712125],\n",
       "       [0.30103   , 0.47712125, 0.60205999, 0.60205999, 0.47712125],\n",
       "       [0.60205999, 0.60205999, 0.47712125, 0.47712125, 0.30103   ]])"
      ]
     },
     "execution_count": 162,
     "metadata": {},
     "output_type": "execute_result"
    }
   ],
   "source": [
    "np.log10(arr1)"
   ]
  },
  {
   "cell_type": "code",
   "execution_count": 163,
   "id": "f99c2328",
   "metadata": {},
   "outputs": [
    {
     "data": {
      "text/plain": [
       "array([[1.09861229, 0.69314718, 1.38629436, 0.69314718, 0.69314718],\n",
       "       [0.69314718, 1.38629436, 1.09861229, 1.09861229, 1.38629436],\n",
       "       [0.69314718, 1.09861229, 0.69314718, 1.09861229, 1.09861229],\n",
       "       [0.69314718, 1.09861229, 1.38629436, 1.38629436, 1.09861229],\n",
       "       [1.38629436, 1.38629436, 1.09861229, 1.09861229, 0.69314718]])"
      ]
     },
     "execution_count": 163,
     "metadata": {},
     "output_type": "execute_result"
    }
   ],
   "source": [
    "np.log(arr1)"
   ]
  },
  {
   "cell_type": "markdown",
   "id": "34ef87ec",
   "metadata": {},
   "source": [
    "#### seed"
   ]
  },
  {
   "cell_type": "code",
   "execution_count": 164,
   "id": "c55ac05a",
   "metadata": {},
   "outputs": [
    {
     "data": {
      "text/plain": [
       "array([[0.77770241, 0.23754122, 0.82427853, 0.9657492 ],\n",
       "       [0.97260111, 0.45344925, 0.60904246, 0.77552651]])"
      ]
     },
     "execution_count": 164,
     "metadata": {},
     "output_type": "execute_result"
    }
   ],
   "source": [
    "np.random.seed(13)\n",
    "np.random.rand(2,4)"
   ]
  },
  {
   "cell_type": "markdown",
   "id": "5b0cf0d1",
   "metadata": {},
   "source": [
    "### Stats in Numpy"
   ]
  },
  {
   "cell_type": "code",
   "execution_count": 102,
   "id": "6b7a6184",
   "metadata": {},
   "outputs": [
    {
     "data": {
      "text/plain": [
       "array([[[49, 86, 98, 42, 73, 26],\n",
       "        [78, 96, 79, 27, 67, 85],\n",
       "        [45, 43, 15, 58, 51,  7],\n",
       "        [32, 22, 65, 50, 35, 38],\n",
       "        [93, 72, 67,  8, 44, 55],\n",
       "        [ 7, 68, 32, 75, 56, 62]],\n",
       "\n",
       "       [[85, 35, 99, 56, 50, 16],\n",
       "        [58, 34, 15, 81, 63, 99],\n",
       "        [48, 83, 23, 62, 25, 93],\n",
       "        [13, 23, 39, 23, 63, 87],\n",
       "        [ 5, 65, 81, 36, 93, 22],\n",
       "        [34, 36,  6,  9, 77, 63]]])"
      ]
     },
     "execution_count": 102,
     "metadata": {},
     "output_type": "execute_result"
    }
   ],
   "source": [
    "random_arr = np.random.randint(4,100,(2,6,6))\n",
    "random_arr"
   ]
  },
  {
   "cell_type": "code",
   "execution_count": 103,
   "id": "04f4aaeb",
   "metadata": {},
   "outputs": [
    {
     "data": {
      "text/plain": [
       "5"
      ]
     },
     "execution_count": 103,
     "metadata": {},
     "output_type": "execute_result"
    }
   ],
   "source": [
    "np.min(random_arr)"
   ]
  },
  {
   "cell_type": "code",
   "execution_count": 104,
   "id": "9db6f5ed",
   "metadata": {},
   "outputs": [
    {
     "data": {
      "text/plain": [
       "99"
      ]
     },
     "execution_count": 104,
     "metadata": {},
     "output_type": "execute_result"
    }
   ],
   "source": [
    "np.max(random_arr)"
   ]
  },
  {
   "cell_type": "code",
   "execution_count": 105,
   "id": "51fd3655",
   "metadata": {},
   "outputs": [
    {
     "data": {
      "text/plain": [
       "array([[93, 96, 98, 75, 73, 85],\n",
       "       [85, 83, 99, 81, 93, 99]])"
      ]
     },
     "execution_count": 105,
     "metadata": {},
     "output_type": "execute_result"
    }
   ],
   "source": [
    "np.max(random_arr, axis=1)"
   ]
  },
  {
   "cell_type": "code",
   "execution_count": 106,
   "id": "f31d606f",
   "metadata": {},
   "outputs": [
    {
     "data": {
      "text/plain": [
       "3706"
      ]
     },
     "execution_count": 106,
     "metadata": {},
     "output_type": "execute_result"
    }
   ],
   "source": [
    "# sum of matrix\n",
    "np.sum(random_arr)"
   ]
  },
  {
   "cell_type": "code",
   "execution_count": 108,
   "id": "8fc7b068",
   "metadata": {},
   "outputs": [
    {
     "data": {
      "text/plain": [
       "array([[304, 387, 356, 260, 326, 273],\n",
       "       [243, 276, 263, 267, 371, 380]])"
      ]
     },
     "execution_count": 108,
     "metadata": {},
     "output_type": "execute_result"
    }
   ],
   "source": [
    "# sum of rows\n",
    "np.sum(random_arr, axis = 1)"
   ]
  },
  {
   "cell_type": "code",
   "execution_count": 109,
   "id": "c49c7d7a",
   "metadata": {},
   "outputs": [
    {
     "data": {
      "text/plain": [
       "array([[134, 121, 197,  98, 123,  42],\n",
       "       [136, 130,  94, 108, 130, 184],\n",
       "       [ 93, 126,  38, 120,  76, 100],\n",
       "       [ 45,  45, 104,  73,  98, 125],\n",
       "       [ 98, 137, 148,  44, 137,  77],\n",
       "       [ 41, 104,  38,  84, 133, 125]])"
      ]
     },
     "execution_count": 109,
     "metadata": {},
     "output_type": "execute_result"
    }
   ],
   "source": [
    "# sum of column\n",
    "np.sum(random_arr, axis = 0)"
   ]
  },
  {
   "cell_type": "code",
   "execution_count": 112,
   "id": "e3eb1659",
   "metadata": {},
   "outputs": [
    {
     "data": {
      "text/plain": [
       "array([[ 1,  2,  3,  4],\n",
       "       [ 5,  6,  7,  8],\n",
       "       [ 9, 10, 11, 12]])"
      ]
     },
     "execution_count": 112,
     "metadata": {},
     "output_type": "execute_result"
    }
   ],
   "source": [
    "# vertically stacking vectors\n",
    "\n",
    "v1 = np.array([1,2,3,4])\n",
    "v2 = np.array([5,6,7,8])\n",
    "v3 = np.array([9,10,11,12])\n",
    "\n",
    "np.vstack([v1,v2,v3])"
   ]
  },
  {
   "cell_type": "code",
   "execution_count": 113,
   "id": "3aa18cd6",
   "metadata": {},
   "outputs": [
    {
     "data": {
      "text/plain": [
       "array([ 1,  2,  3,  4,  5,  6,  7,  8,  9, 10, 11, 12])"
      ]
     },
     "execution_count": 113,
     "metadata": {},
     "output_type": "execute_result"
    }
   ],
   "source": [
    "# horizontal stack\n",
    "\n",
    "v1 = np.array([1,2,3,4])\n",
    "v2 = np.array([5,6,7,8])\n",
    "v3 = np.array([9,10,11,12])\n",
    "np.hstack([v1,v2,v3])"
   ]
  },
  {
   "cell_type": "code",
   "execution_count": 124,
   "id": "a5aef0af",
   "metadata": {},
   "outputs": [
    {
     "name": "stdout",
     "output_type": "stream",
     "text": [
      "[[0. 0. 0. 0.]\n",
      " [0. 0. 0. 0.]\n",
      " [0. 0. 0. 0.]\n",
      " [0. 0. 0. 0.]\n",
      " [0. 0. 0. 0.]] \n",
      "\n",
      "[[1. 1. 1. 1. 1.]\n",
      " [1. 1. 1. 1. 1.]\n",
      " [1. 1. 1. 1. 1.]\n",
      " [1. 1. 1. 1. 1.]] \n",
      "\n"
     ]
    },
    {
     "ename": "ValueError",
     "evalue": "all the input array dimensions for the concatenation axis must match exactly, but along dimension 0, the array at index 0 has size 5 and the array at index 1 has size 4",
     "output_type": "error",
     "traceback": [
      "\u001b[1;31m---------------------------------------------------------------------------\u001b[0m",
      "\u001b[1;31mValueError\u001b[0m                                Traceback (most recent call last)",
      "\u001b[1;32mC:\\Users\\MOHIT~1.KUM\\AppData\\Local\\Temp/ipykernel_18732/3182746297.py\u001b[0m in \u001b[0;36m<module>\u001b[1;34m\u001b[0m\n\u001b[0;32m      5\u001b[0m \u001b[0mprint\u001b[0m\u001b[1;33m(\u001b[0m\u001b[0mv5\u001b[0m\u001b[1;33m,\u001b[0m\u001b[1;34m'\\n'\u001b[0m\u001b[1;33m)\u001b[0m\u001b[1;33m\u001b[0m\u001b[1;33m\u001b[0m\u001b[0m\n\u001b[0;32m      6\u001b[0m \u001b[1;33m\u001b[0m\u001b[0m\n\u001b[1;32m----> 7\u001b[1;33m \u001b[0mnp\u001b[0m\u001b[1;33m.\u001b[0m\u001b[0mhstack\u001b[0m\u001b[1;33m(\u001b[0m\u001b[1;33m[\u001b[0m\u001b[0mv4\u001b[0m\u001b[1;33m,\u001b[0m\u001b[0mv5\u001b[0m\u001b[1;33m]\u001b[0m\u001b[1;33m)\u001b[0m\u001b[1;33m\u001b[0m\u001b[1;33m\u001b[0m\u001b[0m\n\u001b[0m",
      "\u001b[1;32m<__array_function__ internals>\u001b[0m in \u001b[0;36mhstack\u001b[1;34m(*args, **kwargs)\u001b[0m\n",
      "\u001b[1;32m~\\Anaconda3\\lib\\site-packages\\numpy\\core\\shape_base.py\u001b[0m in \u001b[0;36mhstack\u001b[1;34m(tup)\u001b[0m\n\u001b[0;32m    344\u001b[0m         \u001b[1;32mreturn\u001b[0m \u001b[0m_nx\u001b[0m\u001b[1;33m.\u001b[0m\u001b[0mconcatenate\u001b[0m\u001b[1;33m(\u001b[0m\u001b[0marrs\u001b[0m\u001b[1;33m,\u001b[0m \u001b[1;36m0\u001b[0m\u001b[1;33m)\u001b[0m\u001b[1;33m\u001b[0m\u001b[1;33m\u001b[0m\u001b[0m\n\u001b[0;32m    345\u001b[0m     \u001b[1;32melse\u001b[0m\u001b[1;33m:\u001b[0m\u001b[1;33m\u001b[0m\u001b[1;33m\u001b[0m\u001b[0m\n\u001b[1;32m--> 346\u001b[1;33m         \u001b[1;32mreturn\u001b[0m \u001b[0m_nx\u001b[0m\u001b[1;33m.\u001b[0m\u001b[0mconcatenate\u001b[0m\u001b[1;33m(\u001b[0m\u001b[0marrs\u001b[0m\u001b[1;33m,\u001b[0m \u001b[1;36m1\u001b[0m\u001b[1;33m)\u001b[0m\u001b[1;33m\u001b[0m\u001b[1;33m\u001b[0m\u001b[0m\n\u001b[0m\u001b[0;32m    347\u001b[0m \u001b[1;33m\u001b[0m\u001b[0m\n\u001b[0;32m    348\u001b[0m \u001b[1;33m\u001b[0m\u001b[0m\n",
      "\u001b[1;32m<__array_function__ internals>\u001b[0m in \u001b[0;36mconcatenate\u001b[1;34m(*args, **kwargs)\u001b[0m\n",
      "\u001b[1;31mValueError\u001b[0m: all the input array dimensions for the concatenation axis must match exactly, but along dimension 0, the array at index 0 has size 5 and the array at index 1 has size 4"
     ]
    }
   ],
   "source": [
    "v4 = np.zeros((5,4))\n",
    "print(v4,'\\n')\n",
    "\n",
    "v5 = np.ones((4,5))\n",
    "print(v5,'\\n')\n",
    "\n",
    "np.hstack([v4,v5])\n",
    "\n",
    "# throws error"
   ]
  },
  {
   "cell_type": "code",
   "execution_count": 128,
   "id": "6ac80cd8",
   "metadata": {
    "scrolled": true
   },
   "outputs": [
    {
     "name": "stdout",
     "output_type": "stream",
     "text": [
      "[[0. 0. 0. 0.]\n",
      " [0. 0. 0. 0.]\n",
      " [0. 0. 0. 0.]\n",
      " [0. 0. 0. 0.]\n",
      " [0. 0. 0. 0.]] \n",
      "\n",
      "[[1. 1. 1.]\n",
      " [1. 1. 1.]\n",
      " [1. 1. 1.]\n",
      " [1. 1. 1.]\n",
      " [1. 1. 1.]] \n",
      "\n"
     ]
    },
    {
     "data": {
      "text/plain": [
       "array([[0., 0., 0., 0., 1., 1., 1.],\n",
       "       [0., 0., 0., 0., 1., 1., 1.],\n",
       "       [0., 0., 0., 0., 1., 1., 1.],\n",
       "       [0., 0., 0., 0., 1., 1., 1.],\n",
       "       [0., 0., 0., 0., 1., 1., 1.]])"
      ]
     },
     "execution_count": 128,
     "metadata": {},
     "output_type": "execute_result"
    }
   ],
   "source": [
    "v4 = np.zeros((5,4))\n",
    "print(v4,'\\n')\n",
    "\n",
    "v5 = np.ones((5,3))\n",
    "print(v5,'\\n')\n",
    "\n",
    "np.hstack([v4,v5])\n"
   ]
  },
  {
   "cell_type": "code",
   "execution_count": null,
   "id": "f6005a76",
   "metadata": {},
   "outputs": [],
   "source": []
  }
 ],
 "metadata": {
  "kernelspec": {
   "display_name": "Python 3 (ipykernel)",
   "language": "python",
   "name": "python3"
  },
  "language_info": {
   "codemirror_mode": {
    "name": "ipython",
    "version": 3
   },
   "file_extension": ".py",
   "mimetype": "text/x-python",
   "name": "python",
   "nbconvert_exporter": "python",
   "pygments_lexer": "ipython3",
   "version": "3.9.7"
  }
 },
 "nbformat": 4,
 "nbformat_minor": 5
}
